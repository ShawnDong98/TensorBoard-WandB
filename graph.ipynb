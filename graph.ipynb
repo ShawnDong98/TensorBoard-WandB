{
 "cells": [
  {
   "cell_type": "markdown",
   "id": "e4c43f59-7126-4939-a4d3-8bd406322cb1",
   "metadata": {},
   "source": [
    "# Examining the TensorFlow Graph\n",
    "\n",
    "## Overview\n",
    "\n",
    "TensorBoard的 **Graphs dashboard** 是检查TensorFlow模型的强大工具。您可以快速查看模型结构的概念图，并确保它与您预期的设计相匹配。您还可以查看操作级别的graph，以了解TensorFlow如何理解您的程序。检查操作级别图可以让您深入了解如何更改模型。例如，如果训练进度比预期的要慢，您可以重新设计模型。\n",
    "\n",
    "本教程简要概述了如何生成 graph 诊断数据，并将其可视化到 TensorBoard 的 Graphs dashboard 中。您将为 Fashion-MNIS T数据集定义和训练一个简单的Keras序列模型，并学习如何记录和检查模型 graph。您还将使用跟踪API为使用 `tf.function` 创建的函数 生成 graph 数据。\n",
    "\n",
    "## Setup"
   ]
  },
  {
   "cell_type": "code",
   "execution_count": 1,
   "id": "a940a56d-0f1d-464a-b770-c813bb7e657f",
   "metadata": {},
   "outputs": [],
   "source": [
    "# Load the TensorBoard notebook extension.\n",
    "%load_ext tensorboard"
   ]
  },
  {
   "cell_type": "code",
   "execution_count": 2,
   "id": "e0f0b02a-bb52-4ec3-a5f2-6ab36a8cf5a7",
   "metadata": {},
   "outputs": [
    {
     "name": "stdout",
     "output_type": "stream",
     "text": [
      "TensorFlow version:  2.6.0\n"
     ]
    }
   ],
   "source": [
    "from datetime import datetime\n",
    "from packaging import version\n",
    "\n",
    "import tensorflow as tf\n",
    "from tensorflow import keras\n",
    "\n",
    "print(\"TensorFlow version: \", tf.__version__)\n",
    "assert version.parse(tf.__version__).release[0] >= 2, \\\n",
    "    \"This notebook requires TensorFlow 2.0 or above.\""
   ]
  },
  {
   "cell_type": "code",
   "execution_count": 3,
   "id": "0a2e1ba1-3dee-46ff-8b61-6f2da29f73ef",
   "metadata": {},
   "outputs": [
    {
     "data": {
      "text/plain": [
       "'2.6.0'"
      ]
     },
     "execution_count": 3,
     "metadata": {},
     "output_type": "execute_result"
    }
   ],
   "source": [
    "import tensorboard\n",
    "tensorboard.__version__"
   ]
  },
  {
   "cell_type": "code",
   "execution_count": 4,
   "id": "0deb9b82-689f-4697-b33d-c6423d10c525",
   "metadata": {},
   "outputs": [],
   "source": [
    "# Clear any logs from previous runs\n",
    "!rm -rf ./logs/ "
   ]
  },
  {
   "cell_type": "markdown",
   "id": "9745aeb2-1cd5-4025-b441-ac1eb5cf9534",
   "metadata": {},
   "source": [
    "## Define a Keras model\n",
    "\n",
    "在本例中，分类器是一个简单的四层 Sequential 模型。"
   ]
  },
  {
   "cell_type": "code",
   "execution_count": 6,
   "id": "f3b4043c-c82b-4946-ab83-bef0edbe8d3c",
   "metadata": {},
   "outputs": [
    {
     "name": "stdout",
     "output_type": "stream",
     "text": [
      "Metal device set to: Apple M1\n"
     ]
    },
    {
     "name": "stderr",
     "output_type": "stream",
     "text": [
      "2022-03-22 09:34:43.620959: I tensorflow/core/common_runtime/pluggable_device/pluggable_device_factory.cc:305] Could not identify NUMA node of platform GPU ID 0, defaulting to 0. Your kernel may not have been built with NUMA support.\n",
      "2022-03-22 09:34:43.621111: I tensorflow/core/common_runtime/pluggable_device/pluggable_device_factory.cc:271] Created TensorFlow device (/job:localhost/replica:0/task:0/device:GPU:0 with 0 MB memory) -> physical PluggableDevice (device: 0, name: METAL, pci bus id: <undefined>)\n"
     ]
    }
   ],
   "source": [
    "# Define the model.\n",
    "model = keras.models.Sequential([\n",
    "    keras.layers.Flatten(input_shape=(28, 28)),\n",
    "    keras.layers.Dense(32, activation='relu'),\n",
    "    keras.layers.Dropout(0.2),\n",
    "    keras.layers.Dense(10, activation='softmax')\n",
    "])\n",
    "\n",
    "model.compile(\n",
    "    optimizer='adam',\n",
    "    loss='sparse_categorical_crossentropy',\n",
    "    metrics=['accuracy'])"
   ]
  },
  {
   "cell_type": "markdown",
   "id": "3ace05ba-ac73-4a4f-8c92-307ab8f7aefd",
   "metadata": {},
   "source": [
    "下载并准备训练数据。"
   ]
  },
  {
   "cell_type": "code",
   "execution_count": 8,
   "id": "c053a1e2-a986-497f-a663-1ba04aaa4681",
   "metadata": {},
   "outputs": [
    {
     "name": "stdout",
     "output_type": "stream",
     "text": [
      "Downloading data from https://storage.googleapis.com/tensorflow/tf-keras-datasets/train-labels-idx1-ubyte.gz\n",
      "32768/29515 [=================================] - 0s 2us/step\n",
      "40960/29515 [=========================================] - 0s 2us/step\n",
      "Downloading data from https://storage.googleapis.com/tensorflow/tf-keras-datasets/train-images-idx3-ubyte.gz\n",
      "26427392/26421880 [==============================] - 4s 0us/step\n",
      "26435584/26421880 [==============================] - 4s 0us/step\n",
      "Downloading data from https://storage.googleapis.com/tensorflow/tf-keras-datasets/t10k-labels-idx1-ubyte.gz\n",
      "16384/5148 [===============================================================================================] - 0s 0us/step\n",
      "Downloading data from https://storage.googleapis.com/tensorflow/tf-keras-datasets/t10k-images-idx3-ubyte.gz\n",
      "4423680/4422102 [==============================] - 1s 0us/step\n",
      "4431872/4422102 [==============================] - 1s 0us/step\n"
     ]
    }
   ],
   "source": [
    "(train_images, train_labels), _ = keras.datasets.fashion_mnist.load_data()\n",
    "train_images = train_images / 255.0"
   ]
  },
  {
   "cell_type": "markdown",
   "id": "cf7975c3-d1a9-4016-bc3a-fa71ae40595f",
   "metadata": {},
   "source": [
    "## Train the model and log data\n",
    "\n",
    "在训练之前，定义Keras TensorBoard回调，指定日志目录。通过将此回调传递给 Model.fit()，您可以确保在 TensorBoard 中记录 graph 数据以进行可视化。"
   ]
  },
  {
   "cell_type": "code",
   "execution_count": 9,
   "id": "2bef29e9-2839-4a61-9ae1-b396a59ac858",
   "metadata": {},
   "outputs": [
    {
     "name": "stderr",
     "output_type": "stream",
     "text": [
      "2022-03-22 09:36:48.311144: I tensorflow/core/profiler/lib/profiler_session.cc:131] Profiler session initializing.\n",
      "2022-03-22 09:36:48.311168: I tensorflow/core/profiler/lib/profiler_session.cc:146] Profiler session started.\n",
      "2022-03-22 09:36:48.311834: I tensorflow/core/profiler/lib/profiler_session.cc:164] Profiler session tear down.\n",
      "2022-03-22 09:36:49.035495: I tensorflow/compiler/mlir/mlir_graph_optimization_pass.cc:185] None of the MLIR Optimization Passes are enabled (registered 2)\n",
      "2022-03-22 09:36:49.035970: W tensorflow/core/platform/profile_utils/cpu_utils.cc:128] Failed to get CPU frequency: 0 Hz\n",
      "2022-03-22 09:36:49.133932: I tensorflow/core/grappler/optimizers/custom_graph_optimizer_registry.cc:112] Plugin optimizer for device_type GPU is enabled.\n"
     ]
    },
    {
     "name": "stdout",
     "output_type": "stream",
     "text": [
      "Epoch 1/5\n",
      " 33/938 [>.............................] - ETA: 4s - loss: 1.7715 - accuracy: 0.3655"
     ]
    },
    {
     "name": "stderr",
     "output_type": "stream",
     "text": [
      "2022-03-22 09:36:49.454897: I tensorflow/core/profiler/lib/profiler_session.cc:131] Profiler session initializing.\n",
      "2022-03-22 09:36:49.454904: I tensorflow/core/profiler/lib/profiler_session.cc:146] Profiler session started.\n",
      "2022-03-22 09:36:49.461907: I tensorflow/core/profiler/lib/profiler_session.cc:66] Profiler session collecting data.\n",
      "2022-03-22 09:36:49.462593: I tensorflow/core/profiler/lib/profiler_session.cc:164] Profiler session tear down.\n",
      "2022-03-22 09:36:49.463736: I tensorflow/core/profiler/rpc/client/save_profile.cc:136] Creating directory: logs/fit/20220322-093648/train/plugins/profile/2022_03_22_09_36_49\n",
      "\n",
      "2022-03-22 09:36:49.464160: I tensorflow/core/profiler/rpc/client/save_profile.cc:142] Dumped gzipped tool data for trace.json.gz to logs/fit/20220322-093648/train/plugins/profile/2022_03_22_09_36_49/Shawns.local.trace.json.gz\n",
      "2022-03-22 09:36:49.465286: I tensorflow/core/profiler/rpc/client/save_profile.cc:136] Creating directory: logs/fit/20220322-093648/train/plugins/profile/2022_03_22_09_36_49\n",
      "\n",
      "2022-03-22 09:36:49.465428: I tensorflow/core/profiler/rpc/client/save_profile.cc:142] Dumped gzipped tool data for memory_profile.json.gz to logs/fit/20220322-093648/train/plugins/profile/2022_03_22_09_36_49/Shawns.local.memory_profile.json.gz\n",
      "2022-03-22 09:36:49.466184: I tensorflow/core/profiler/rpc/client/capture_profile.cc:251] Creating directory: logs/fit/20220322-093648/train/plugins/profile/2022_03_22_09_36_49\n",
      "Dumped tool data for xplane.pb to logs/fit/20220322-093648/train/plugins/profile/2022_03_22_09_36_49/Shawns.local.xplane.pb\n",
      "Dumped tool data for overview_page.pb to logs/fit/20220322-093648/train/plugins/profile/2022_03_22_09_36_49/Shawns.local.overview_page.pb\n",
      "Dumped tool data for input_pipeline.pb to logs/fit/20220322-093648/train/plugins/profile/2022_03_22_09_36_49/Shawns.local.input_pipeline.pb\n",
      "Dumped tool data for tensorflow_stats.pb to logs/fit/20220322-093648/train/plugins/profile/2022_03_22_09_36_49/Shawns.local.tensorflow_stats.pb\n",
      "Dumped tool data for kernel_stats.pb to logs/fit/20220322-093648/train/plugins/profile/2022_03_22_09_36_49/Shawns.local.kernel_stats.pb\n",
      "\n"
     ]
    },
    {
     "name": "stdout",
     "output_type": "stream",
     "text": [
      "938/938 [==============================] - 5s 4ms/step - loss: 0.7187 - accuracy: 0.7546\n",
      "Epoch 2/5\n",
      "938/938 [==============================] - 4s 4ms/step - loss: 0.5037 - accuracy: 0.8240\n",
      "Epoch 3/5\n",
      "938/938 [==============================] - 4s 4ms/step - loss: 0.4566 - accuracy: 0.8384\n",
      "Epoch 4/5\n",
      "938/938 [==============================] - 4s 4ms/step - loss: 0.4327 - accuracy: 0.8451\n",
      "Epoch 5/5\n",
      "938/938 [==============================] - 4s 4ms/step - loss: 0.4159 - accuracy: 0.8505\n"
     ]
    },
    {
     "data": {
      "text/plain": [
       "<keras.callbacks.History at 0x28e801f10>"
      ]
     },
     "execution_count": 9,
     "metadata": {},
     "output_type": "execute_result"
    }
   ],
   "source": [
    "# Define the Keras TensorBoard callback.\n",
    "logdir=\"logs/fit/\" + datetime.now().strftime(\"%Y%m%d-%H%M%S\")\n",
    "tensorboard_callback = keras.callbacks.TensorBoard(log_dir=logdir)\n",
    "\n",
    "# Train the model.\n",
    "model.fit(\n",
    "    train_images,\n",
    "    train_labels, \n",
    "    batch_size=64,\n",
    "    epochs=5, \n",
    "    callbacks=[tensorboard_callback])"
   ]
  },
  {
   "cell_type": "markdown",
   "id": "df84f989-2eda-4ed0-b66f-83ccf3f2b06d",
   "metadata": {},
   "source": [
    "## Op-level graph\n",
    "\n",
    "启动TensorBoard，等待几秒钟等待 UI 加载。通过点击顶部的 “Graphs” 来选择 Graph dashboard。"
   ]
  },
  {
   "cell_type": "code",
   "execution_count": 11,
   "id": "a53e7cf5-8cfb-443c-bc75-91ac739b5048",
   "metadata": {},
   "outputs": [
    {
     "data": {
      "text/html": [
       "\n",
       "      <iframe id=\"tensorboard-frame-5e344b19bd5fdcbe\" width=\"100%\" height=\"800\" frameborder=\"0\">\n",
       "      </iframe>\n",
       "      <script>\n",
       "        (function() {\n",
       "          const frame = document.getElementById(\"tensorboard-frame-5e344b19bd5fdcbe\");\n",
       "          const url = new URL(\"/\", window.location);\n",
       "          const port = 6006;\n",
       "          if (port) {\n",
       "            url.port = port;\n",
       "          }\n",
       "          frame.src = url;\n",
       "        })();\n",
       "      </script>\n",
       "    "
      ],
      "text/plain": [
       "<IPython.core.display.HTML object>"
      ]
     },
     "metadata": {},
     "output_type": "display_data"
    }
   ],
   "source": [
    "%tensorboard --logdir logs"
   ]
  },
  {
   "cell_type": "markdown",
   "id": "fd4b60ca-9389-4b6e-a85c-b9f904ced931",
   "metadata": {},
   "source": [
    "您还可以选择使用TensorBoard.dev创建托管的、可共享的实验。"
   ]
  },
  {
   "cell_type": "code",
   "execution_count": 12,
   "id": "f666c075-277b-4e98-be10-a15c89155bf3",
   "metadata": {},
   "outputs": [
    {
     "name": "stdout",
     "output_type": "stream",
     "text": [
      "\n",
      "***** TensorBoard Uploader *****\n",
      "\n",
      "This will upload your TensorBoard logs to https://tensorboard.dev/ from\n",
      "the following directory:\n",
      "\n",
      "logs\n",
      "\n",
      "This TensorBoard will be visible to everyone. Do not upload sensitive\n",
      "data.\n",
      "\n",
      "Your use of this service is subject to Google's Terms of Service\n",
      "<https://policies.google.com/terms> and Privacy Policy\n",
      "<https://policies.google.com/privacy>, and TensorBoard.dev's Terms of Service\n",
      "<https://tensorboard.dev/policy/terms/>.\n",
      "\n",
      "This notice will not be shown again while you are logged into the uploader.\n",
      "To log out, run `tensorboard dev auth revoke`.\n",
      "\n",
      "Continue? (yes/NO) ^C\n",
      "Traceback (most recent call last):\n",
      "  File \"/Users/shawnd/miniforge3/envs/keras/bin/tensorboard\", line 8, in <module>\n",
      "    sys.exit(run_main())\n",
      "  File \"/Users/shawnd/miniforge3/envs/keras/lib/python3.8/site-packages/tensorboard/main.py\", line 46, in run_main\n",
      "    app.run(tensorboard.main, flags_parser=tensorboard.configure)\n",
      "  File \"/Users/shawnd/miniforge3/envs/keras/lib/python3.8/site-packages/absl/app.py\", line 300, in run\n",
      "    _run_main(main, args)\n",
      "  File \"/Users/shawnd/miniforge3/envs/keras/lib/python3.8/site-packages/absl/app.py\", line 251, in _run_main\n",
      "    sys.exit(main(argv))\n",
      "  File \"/Users/shawnd/miniforge3/envs/keras/lib/python3.8/site-packages/tensorboard/program.py\", line 276, in main\n",
      "    return runner(self.flags) or 0\n",
      "  File \"/Users/shawnd/miniforge3/envs/keras/lib/python3.8/site-packages/tensorboard/uploader/uploader_subcommand.py\", line 657, in run\n",
      "    return _run(flags, self._experiment_url_callback)\n",
      "  File \"/Users/shawnd/miniforge3/envs/keras/lib/python3.8/site-packages/tensorboard/uploader/uploader_subcommand.py\", line 94, in _run\n",
      "    _prompt_for_user_ack(intent)\n",
      "  File \"/Users/shawnd/miniforge3/envs/keras/lib/python3.8/site-packages/tensorboard/uploader/uploader_subcommand.py\", line 67, in _prompt_for_user_ack\n",
      "    response = input(\"Continue? (yes/NO) \")\n",
      "KeyboardInterrupt\n"
     ]
    }
   ],
   "source": [
    "!tensorboard dev upload \\\n",
    "  --logdir logs \\\n",
    "  --name \"Sample op-level graph\" \\\n",
    "  --one_shot"
   ]
  },
  {
   "cell_type": "markdown",
   "id": "ef817dec-36e6-4f6c-835c-5883880c7312",
   "metadata": {},
   "source": [
    "默认情况下，TensorBoard显示 **op-leval graph**。（在左侧，您可以看到选择的“默认”标签。）请注意， graph是倒置的；数据从下到上流动，因此与代码相比是颠倒的。然而，您可以看到该图与Keras模型定义非常匹配，并增加了其他计算节点的边缘。\n",
    "\n",
    "graph 通常非常大，因此您可以操作 graph 可视化：\n",
    "\n",
    "- 滚动放大和缩小\n",
    "- 拖动以平移\n",
    "- 双击切换节点扩展（节点可以是其他节点的容器）\n",
    "\n",
    "您还可以通过单击节点查看元数据。这允许您查看输入、输出、形状和其他详细信息。"
   ]
  },
  {
   "cell_type": "markdown",
   "id": "eccf9d9d-8d9d-4364-929a-070086af4738",
   "metadata": {},
   "source": [
    "## Conceptual graph\n",
    "\n",
    "除了 execution graph 外，TensorBoard还显示一个 **conceptual graph**。这只是Keras模型的view。如果您正在重用保存的模型，并且想要检查或验证其结构，这可能会有用。\n",
    "\n",
    "要查看概念图，请选择“keras”标签。在本例中，您将看到一个折叠的 **Sequential** 节点。双击节点以查看模型的结构："
   ]
  },
  {
   "cell_type": "markdown",
   "id": "c5a4d5bf-4106-4a28-8293-ca7517361321",
   "metadata": {},
   "source": [
    "## Graphs of tf.functions\n",
    "\n",
    "到目前为止，这些示例描述了 Keras 模型的 graph，其中 graph 是通过定义 Keras 层和调用 Model.fit() 创建的。\n",
    "\n",
    "您可能会遇到这样的情况，您需要使用 `tf.function` 注释 “autograph”，即将Python计算函数转换为高性能 TensorFlow graph。对于这些情况，您可以使用 **TensorFlow Summary Trace API** 在 TensorBoard 中记录 autographed functions 进行可视化。\n",
    "\n",
    "要使用Summary Trace API：\n",
    "\n",
    "- 使用 `tf.function` 定义和注释函数\n",
    "- 在函数调用前使用 `tf.summary.trace_on()`。\n",
    "- 通过传递 `profiler=True` 将配置文件信息（内存、CPU时间）添加到 graph 中\n",
    "- 使用 Summary file writer，调用 `tf.summary.trace_export()` 来保存日志数据\n",
    "\n",
    "然后，您可以使用TensorBoard查看您的函数表现如何。"
   ]
  },
  {
   "cell_type": "code",
   "execution_count": 14,
   "id": "addef3c8-3c51-4dcf-85b8-e77888758aac",
   "metadata": {},
   "outputs": [
    {
     "name": "stdout",
     "output_type": "stream",
     "text": [
      "WARNING:tensorflow:From /Users/shawnd/miniforge3/envs/keras/lib/python3.8/site-packages/tensorflow/python/ops/summary_ops_v2.py:1298: start (from tensorflow.python.eager.profiler) is deprecated and will be removed after 2020-07-01.\n",
      "Instructions for updating:\n",
      "use `tf.profiler.experimental.start` instead.\n",
      "WARNING:tensorflow:From /Users/shawnd/miniforge3/envs/keras/lib/python3.8/site-packages/tensorflow/python/ops/summary_ops_v2.py:1348: stop (from tensorflow.python.eager.profiler) is deprecated and will be removed after 2020-07-01.\n",
      "Instructions for updating:\n",
      "use `tf.profiler.experimental.stop` instead.\n",
      "WARNING:tensorflow:From /Users/shawnd/miniforge3/envs/keras/lib/python3.8/site-packages/tensorflow/python/ops/summary_ops_v2.py:1348: save (from tensorflow.python.eager.profiler) is deprecated and will be removed after 2020-07-01.\n",
      "Instructions for updating:\n",
      "`tf.python.eager.profiler` has deprecated, use `tf.profiler` instead.\n",
      "WARNING:tensorflow:From /Users/shawnd/miniforge3/envs/keras/lib/python3.8/site-packages/tensorflow/python/eager/profiler.py:151: maybe_create_event_file (from tensorflow.python.eager.profiler) is deprecated and will be removed after 2020-07-01.\n",
      "Instructions for updating:\n",
      "`tf.python.eager.profiler` has deprecated, use `tf.profiler` instead.\n"
     ]
    },
    {
     "name": "stderr",
     "output_type": "stream",
     "text": [
      "2022-03-22 09:57:06.764813: I tensorflow/core/profiler/lib/profiler_session.cc:131] Profiler session initializing.\n",
      "2022-03-22 09:57:06.764837: I tensorflow/core/profiler/lib/profiler_session.cc:146] Profiler session started.\n",
      "2022-03-22 09:57:06.804841: I tensorflow/core/grappler/optimizers/custom_graph_optimizer_registry.cc:112] Plugin optimizer for device_type GPU is enabled.\n",
      "2022-03-22 09:57:06.877904: I tensorflow/core/profiler/lib/profiler_session.cc:66] Profiler session collecting data.\n",
      "2022-03-22 09:57:06.878126: I tensorflow/core/profiler/lib/profiler_session.cc:164] Profiler session tear down.\n"
     ]
    }
   ],
   "source": [
    "# The function to be traced.\n",
    "@tf.function\n",
    "def my_func(x, y):\n",
    "  # A simple hand-rolled layer.\n",
    "  return tf.nn.relu(tf.matmul(x, y))\n",
    "\n",
    "# Set up logging.\n",
    "stamp = datetime.now().strftime(\"%Y%m%d-%H%M%S\")\n",
    "logdir = 'logs/func/%s' % stamp\n",
    "writer = tf.summary.create_file_writer(logdir)\n",
    "\n",
    "# Sample data for your function.\n",
    "x = tf.random.uniform((3, 3))\n",
    "y = tf.random.uniform((3, 3))\n",
    "\n",
    "# Bracket the function call with\n",
    "# tf.summary.trace_on() and tf.summary.trace_export().\n",
    "tf.summary.trace_on(graph=True, profiler=True)\n",
    "\n",
    "# Call only one tf.function when tracing.\n",
    "z = my_func(x, y)\n",
    "with writer.as_default():\n",
    "    tf.summary.trace_export(\n",
    "        name=\"my_func_trace\",\n",
    "        step=0,\n",
    "        profiler_outdir=logdir)"
   ]
  },
  {
   "cell_type": "code",
   "execution_count": 15,
   "id": "ebe772b9-0a22-4b64-9ceb-cef9da1b0f8b",
   "metadata": {},
   "outputs": [
    {
     "data": {
      "text/html": [
       "\n",
       "      <iframe id=\"tensorboard-frame-c5e5d9911f83098c\" width=\"100%\" height=\"800\" frameborder=\"0\">\n",
       "      </iframe>\n",
       "      <script>\n",
       "        (function() {\n",
       "          const frame = document.getElementById(\"tensorboard-frame-c5e5d9911f83098c\");\n",
       "          const url = new URL(\"/\", window.location);\n",
       "          const port = 6006;\n",
       "          if (port) {\n",
       "            url.port = port;\n",
       "          }\n",
       "          frame.src = url;\n",
       "        })();\n",
       "      </script>\n",
       "    "
      ],
      "text/plain": [
       "<IPython.core.display.HTML object>"
      ]
     },
     "metadata": {},
     "output_type": "display_data"
    }
   ],
   "source": [
    "%tensorboard --logdir logs/func"
   ]
  },
  {
   "cell_type": "markdown",
   "id": "6e9249b8-11c5-432a-ae0f-c7804537105c",
   "metadata": {},
   "source": [
    "您现在可以看到TensorBoard理解的功能结构。单击“Profile”按钮以查看CPU和内存统计信息。"
   ]
  },
  {
   "cell_type": "code",
   "execution_count": null,
   "id": "fa96d585-cbba-44fe-b425-cbba5f32fd53",
   "metadata": {},
   "outputs": [],
   "source": []
  }
 ],
 "metadata": {
  "kernelspec": {
   "display_name": "Python 3 (ipykernel)",
   "language": "python",
   "name": "python3"
  },
  "language_info": {
   "codemirror_mode": {
    "name": "ipython",
    "version": 3
   },
   "file_extension": ".py",
   "mimetype": "text/x-python",
   "name": "python",
   "nbconvert_exporter": "python",
   "pygments_lexer": "ipython3",
   "version": "3.8.12"
  }
 },
 "nbformat": 4,
 "nbformat_minor": 5
}
