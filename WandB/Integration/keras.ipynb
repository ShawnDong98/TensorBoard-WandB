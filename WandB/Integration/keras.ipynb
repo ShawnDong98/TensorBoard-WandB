{
 "cells": [
  {
   "cell_type": "markdown",
   "id": "a6b2b59f-aaaf-4fad-bd4a-a1a95255998f",
   "metadata": {},
   "source": [
    "# Keras\n",
    "\n",
    "```python\n",
    "import wandb\n",
    "from wandb.keras import WandbCallback\n",
    "\n",
    "wandb.init(config={\"hyper\": \"parameter\"})\n",
    "\n",
    "...  # code to set up your model in Keras\n",
    "\n",
    "# 🧙 magic\n",
    "model.fit(X_train, y_train,  validation_data=(X_test, y_test),\n",
    "          callbacks=[WandbCallback()])\n",
    "```\n",
    "\n",
    "## Configuring the WandbCallback\n",
    "\n",
    "`WandbCallback` 类支持大量的记录配置选项： 指定一个 metric 给 `monitor`， 追踪 `weights` 和 `gradients`， 记录 `training_data` 和 `validation_data` 上的 `predictions`等等。\n",
    "\n",
    "## How do I use Keras multiprocessing with wandb?\n",
    "\n",
    "如果你使用 `use_multiprocessing=True`， 你将会看到类似下面的错误：\n",
    "\n",
    "```\n",
    "Error('You must call wandb.init() before wandb.config.batch_size')\n",
    "```\n",
    "\n",
    "尝试以下做法：\n",
    "\n",
    "- 在 `Sequence` 类构建时， 添加 `wandb.init(group='...')`\n",
    "- 在你的主程序里， 确保你使用了 `if __name__ == \"__main__\"`： 然后将其余的脚本逻辑放入其中"
   ]
  },
  {
   "cell_type": "code",
   "execution_count": null,
   "id": "0a08ebc3-1ed3-4d17-b3aa-e92ba1b36b8c",
   "metadata": {},
   "outputs": [],
   "source": []
  }
 ],
 "metadata": {
  "kernelspec": {
   "display_name": "Python 3 (ipykernel)",
   "language": "python",
   "name": "python3"
  },
  "language_info": {
   "codemirror_mode": {
    "name": "ipython",
    "version": 3
   },
   "file_extension": ".py",
   "mimetype": "text/x-python",
   "name": "python",
   "nbconvert_exporter": "python",
   "pygments_lexer": "ipython3",
   "version": "3.8.12"
  }
 },
 "nbformat": 4,
 "nbformat_minor": 5
}
