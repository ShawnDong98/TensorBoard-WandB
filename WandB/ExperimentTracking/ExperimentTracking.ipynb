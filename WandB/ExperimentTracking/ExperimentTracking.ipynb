{
 "cells": [
  {
   "cell_type": "markdown",
   "id": "42e5240e-9bfe-4dee-af9b-62196f8f59f7",
   "metadata": {},
   "source": [
    "# Experiment Tracking\n",
    "\n",
    "使用wandb Python库用几行代码跟踪机器学习实验。如果您使用的是PyTorch或Keras等流行的框架，我们有轻量级集成。\n",
    "\n",
    "然后，您可以在  interactive dashboard 中查看结果，或使用我们的公共API将数据导出到Python进行编程访问。"
   ]
  },
  {
   "cell_type": "markdown",
   "id": "4bee1d21-8053-415e-980f-d63d3f06c854",
   "metadata": {},
   "source": [
    "## Integrating W&B in your script\n",
    "\n",
    "以下是跟踪 W&B 实验的简单构建模块。我们还为PyTorch、Keras、Scikit等提供了一系列特殊集成。请参阅我们的集成指南。\n",
    "\n",
    "- `wandb.init()`: 在脚本顶部初始化新的运行。这返回一个 `Run` 对象并创建一个本地目录，其中保存所有日志和文件，然后异步流式传输到 W&B 服务器。如果您想使用私有服务器而不是我们的托管云服务器，我们提供自助托管。 \n",
    "- `wandb.config`: 保存超参数的词典，如学习率或模型类型。您在配置中捕获的模型设置稍后可用于组织和查询结果。\n",
    "- `wandb.log()`: 在训练循环中记录一段时间内的指标，例如准确性和损失。默认情况下，当您调用`wandb.log` 时，它会将新 step 附加到 `history` 对象并更新 `summary` 对象。\n",
    "- - `history`: 一系列类似字典的对象，随着时间的推移跟踪指标。这些时间序列值在UI中显示为默认行图。\n",
    "- - `summary`: 默认情况下，使用 `wandb.log()` 记录的指标的最终值。您可以手动设置指标的摘要，以捕获最高精度或最低损失，而不是最终值。这些值用于表中，以及比较 runs 的绘图——例如，您可以最终准确地可视化项目中的所有 runs 。\n",
    "- `wandb.log_artifact`: 保存运行的输出，如模型权重或 a table of predictions。这不仅可以让您跟踪模型训练，还可以跟踪影响最终模型的所有 pipeline steps。"
   ]
  },
  {
   "cell_type": "markdown",
   "id": "f12de093-6b79-45b4-b608-15a7b4db8374",
   "metadata": {},
   "source": [
    "## Best Practices\n",
    "\n",
    "`wandb` 非常灵活。以下是一些建议的指导方针。\n",
    "\n",
    "- `Config`: 跟踪超参数、结构、数据集以及您想要用于重现模型的任何其他内容。这些将显示在列中 —— 使用配置列对 app 中的动态运行进行分组、排序和筛选。\n",
    "- `Project`: project 是一组你可以比较的实验。每个 project 都有一个专用的 Dashboard 页面，您可以轻松打开和关闭不同的 runs 组，以比较不同的模型版本。\n",
    "- `Notes`: 快速提交消息给自己， note 可以从脚本中设置，并在 table 中编辑。\n",
    "- `Tags`: 识别baseline runs 和 最喜欢的 runs。您可以使用 tags 过滤运行，它们可以在 table 中编辑。"
   ]
  },
  {
   "cell_type": "code",
   "execution_count": 3,
   "id": "2ee0d3a1-b13c-463a-a36c-9a75e8cb9c8d",
   "metadata": {},
   "outputs": [
    {
     "name": "stderr",
     "output_type": "stream",
     "text": [
      "\u001b[34m\u001b[1mwandb\u001b[0m: You can find your API key in your browser here: https://wandb.ai/authorize\n"
     ]
    },
    {
     "name": "stdin",
     "output_type": "stream",
     "text": [
      "\u001b[34m\u001b[1mwandb\u001b[0m: Paste an API key from your profile and hit enter, or press ctrl+c to quit:  ········································\n"
     ]
    },
    {
     "name": "stderr",
     "output_type": "stream",
     "text": [
      "\u001b[34m\u001b[1mwandb\u001b[0m: Appending key for api.wandb.ai to your netrc file: /Users/shawnd/.netrc\n"
     ]
    },
    {
     "data": {
      "text/html": [
       "Tracking run with wandb version 0.12.16"
      ],
      "text/plain": [
       "<IPython.core.display.HTML object>"
      ]
     },
     "metadata": {},
     "output_type": "display_data"
    },
    {
     "data": {
      "text/html": [
       "Run data is saved locally in <code>/Users/shawnd/Documents/Tensorboard&WandB/wandb/run-20220516_161135-2wvbanvd</code>"
      ],
      "text/plain": [
       "<IPython.core.display.HTML object>"
      ]
     },
     "metadata": {},
     "output_type": "display_data"
    },
    {
     "data": {
      "text/html": [
       "Syncing run <strong><a href=\"https://wandb.ai/shawndong98/detect-pedestrains/runs/2wvbanvd\" target=\"_blank\">fallen-capybara-1</a></strong> to <a href=\"https://wandb.ai/shawndong98/detect-pedestrains\" target=\"_blank\">Weights & Biases</a> (<a href=\"https://wandb.me/run\" target=\"_blank\">docs</a>)<br/>"
      ],
      "text/plain": [
       "<IPython.core.display.HTML object>"
      ]
     },
     "metadata": {},
     "output_type": "display_data"
    },
    {
     "data": {
      "text/html": [
       "<button onClick=\"this.nextSibling.style.display='block';this.style.display='none';\">Display W&B run</button><iframe src=\"https://wandb.ai/shawndong98/detect-pedestrains/runs/2wvbanvd?jupyter=true\" style=\"border:none;width:100%;height:420px;display:none;\"></iframe>"
      ],
      "text/plain": [
       "<wandb.sdk.wandb_run.Run at 0x10f51dee0>"
      ]
     },
     "execution_count": 3,
     "metadata": {},
     "output_type": "execute_result"
    }
   ],
   "source": [
    "import wandb\n",
    "\n",
    "config = dict(\n",
    "    learning_rate = 0.01,\n",
    "    momentum = 0.2, \n",
    "    architecture = \"CNN\",\n",
    "    dataset_id = \"peds-0192\",\n",
    "    infra = \"AWS\",\n",
    ")\n",
    "\n",
    "wandb.init(\n",
    "    project=\"detect-pedestrains\",\n",
    "    notes=\"tweak baseline\",\n",
    "    tags=[\"baseline\", \"paper1\"],\n",
    "    config=config\n",
    ")"
   ]
  },
  {
   "cell_type": "markdown",
   "id": "66a64af7-6835-41d3-93b8-2ad041e77fb1",
   "metadata": {},
   "source": [
    "## What data is logged?\n",
    "\n",
    "从脚本中记录的所有数据都保存在本地名为 `wandb` 的目录中，然后同步到 W&B 云或私有服务器。\n",
    "\n",
    "### Logged Automatically\n",
    "\n",
    "- **System metrics**: CPU 和 GPU利用率、网络等。这些显示在运行页面上的系统选项卡中。对于GPU，这些是用 nvidia-smi 获取的。\n",
    "- **Command line**: stdout 和 stderr 被拾起并显示在运行页面上的日志选项卡中。\n",
    "\n",
    "在帐户的设置页面中打开 Code Saving 以获取：\n",
    "\n",
    "- **Git commit**: 拿起最新的 git 提交，并在运行页面的概览选项卡上查看，如果有任何未提交的更改，也可以查看 `diff.patch` 文件。\n",
    "- **Dependencies**: `requirements.txt` 文件将上传并显示在运行页面的文件选项卡上，以及您保存到`wandb` 目录进行运行的任何文件。\n",
    "\n",
    "### Logged with Specific Calls\n",
    "\n",
    "就数据和模型指标而言，您可以确切地决定要记录的内容。\n",
    "\n",
    "- **Dataset**: 您必须专门记录图像或其他数据集样本，以便它们流式传输到 W&B。\n",
    "- **PyTorch gradients**: 添加 `wandb.watch(model)` 以在用户界面中将权重的梯度可视化为直方图。\n",
    "- **Configuration info**: 记录超参数、数据集链接或用作配置参数的结构名称，像这样传递：`wandb.init(config=your_config_dictionary)`\n",
    "- **Metrics**: 使用 `wandb.log` 查看模型中的指标。如果您在训练循环中记录准确性和损失等指标，您将在用户界面中获得实时更新图表。"
   ]
  },
  {
   "cell_type": "code",
   "execution_count": null,
   "id": "3d524f43-19a9-47d8-acb3-353ca6594460",
   "metadata": {},
   "outputs": [],
   "source": []
  }
 ],
 "metadata": {
  "kernelspec": {
   "display_name": "Python 3 (ipykernel)",
   "language": "python",
   "name": "python3"
  },
  "language_info": {
   "codemirror_mode": {
    "name": "ipython",
    "version": 3
   },
   "file_extension": ".py",
   "mimetype": "text/x-python",
   "name": "python",
   "nbconvert_exporter": "python",
   "pygments_lexer": "ipython3",
   "version": "3.8.12"
  }
 },
 "nbformat": 4,
 "nbformat_minor": 5
}
