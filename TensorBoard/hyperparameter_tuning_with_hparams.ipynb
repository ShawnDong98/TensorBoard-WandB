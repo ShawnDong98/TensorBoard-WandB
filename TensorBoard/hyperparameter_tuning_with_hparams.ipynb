{
 "cells": [
  {
   "cell_type": "markdown",
   "id": "9411398b-a5e8-4e00-bd73-96b60b8c246b",
   "metadata": {},
   "source": [
    "# Hyperparameter Tuning with the HParams Dashboard\n",
    "\n",
    "在构建机器学习模型时，您需要选择各种超参数），例如 layer 中的 dropout rate 或学习率。这些决策会影响模型指标，例如准确性。因此，机器学习工作流程的一个重要步骤是为您的问题确定最佳超参数，这通常涉及实验。这个过程被称为“超参数优化”或“超参数调优”。\n",
    "\n",
    "TensorBoard中的HParams Dashboard 提供了几种工具来帮助确定最佳实验或最有前途的超参数集。\n",
    "\n",
    "本教程将重点介绍以下步骤：\n",
    "\n",
    "- 实验设置和HParams summary\n",
    "- Adapt TensorFlow runs 以记录超参数和指标\n",
    "- 开始 runs，并将其全部记录在一个父目录下\n",
    "- 在 TensorBoard 的 HParams Dashboard 中可视化结果\n",
    "\n",
    "注意：HParams summary API 和 dashboard UI 处于预览阶段，并将随着时间的推移而变化。\n",
    "\n",
    "首先安装 TF 2.0 并加载 TensorBoard Notebook 扩展："
   ]
  },
  {
   "cell_type": "code",
   "execution_count": 1,
   "id": "5a7ab5a4-1352-4edd-8e8c-8eb3291d7b46",
   "metadata": {},
   "outputs": [],
   "source": [
    "# Load the TensorBoard notebook extension\n",
    "%load_ext tensorboard"
   ]
  },
  {
   "cell_type": "code",
   "execution_count": 2,
   "id": "37e98fec-972f-4384-820f-b599566bfb66",
   "metadata": {},
   "outputs": [],
   "source": [
    "# Clear any logs from previous runs\n",
    "!rm -rf ./logs/ "
   ]
  },
  {
   "cell_type": "markdown",
   "id": "cfdcbca5-1891-4ae2-b102-8e2b676e7d53",
   "metadata": {},
   "source": [
    "导入 TensorFlow 和 TensorBoard HParams 插件："
   ]
  },
  {
   "cell_type": "code",
   "execution_count": 3,
   "id": "b0847020-451c-42b8-89dd-64218df10ceb",
   "metadata": {},
   "outputs": [],
   "source": [
    "import tensorflow as tf\n",
    "from tensorboard.plugins.hparams import api as hp"
   ]
  },
  {
   "cell_type": "markdown",
   "id": "380a9236-36d8-4983-987b-3562ec4b0908",
   "metadata": {},
   "source": [
    "下载FashionMNIST数据集并缩放它："
   ]
  },
  {
   "cell_type": "code",
   "execution_count": 5,
   "id": "b1a82f5b-3d85-4642-bfc2-46905c88cd15",
   "metadata": {},
   "outputs": [],
   "source": [
    "fashion_mnist = tf.keras.datasets.fashion_mnist\n",
    "\n",
    "(x_train, y_train),(x_test, y_test) = fashion_mnist.load_data()\n",
    "x_train, x_test = x_train / 255.0, x_test / 255.0"
   ]
  },
  {
   "cell_type": "markdown",
   "id": "156dd8a8-c2f2-4ccb-ad60-600bf538ef2b",
   "metadata": {},
   "source": [
    "# 1. Experiment setup and the HParams experiment summary\n",
    "\n",
    "实验模型中的三个超参数：\n",
    "\n",
    "- 第一个 Dense 层的神经元数量\n",
    "- dropout 层的 dropout rate\n",
    "- 优化器\n",
    "\n",
    "列出要尝试的值，并将实验配置记录到TensorBoard。此步骤是可选的：您可以提供域信息，以更精确地过滤UI中的超参数，并且您可以指定应该显示哪些指标。"
   ]
  },
  {
   "cell_type": "code",
   "execution_count": 7,
   "id": "fdd0ece5-1ef0-4725-8fea-5f2df4e6b4fd",
   "metadata": {},
   "outputs": [
    {
     "name": "stdout",
     "output_type": "stream",
     "text": [
      "Metal device set to: Apple M1\n"
     ]
    },
    {
     "name": "stderr",
     "output_type": "stream",
     "text": [
      "2022-03-28 13:40:57.970326: I tensorflow/core/common_runtime/pluggable_device/pluggable_device_factory.cc:305] Could not identify NUMA node of platform GPU ID 0, defaulting to 0. Your kernel may not have been built with NUMA support.\n",
      "2022-03-28 13:40:57.971514: I tensorflow/core/common_runtime/pluggable_device/pluggable_device_factory.cc:271] Created TensorFlow device (/job:localhost/replica:0/task:0/device:GPU:0 with 0 MB memory) -> physical PluggableDevice (device: 0, name: METAL, pci bus id: <undefined>)\n"
     ]
    }
   ],
   "source": [
    "HP_NUM_UNITS = hp.HParam('num_units', hp.Discrete([16, 32]))\n",
    "HP_DROPOUT = hp.HParam('dropout', hp.RealInterval(0.1, 0.2))\n",
    "HP_OPTIMIZER = hp.HParam('optimizer', hp.Discrete(['adam', 'sgd']))\n",
    "\n",
    "METRIC_ACCURACY = 'accuracy'\n",
    "\n",
    "with tf.summary.create_file_writer('logs/hparam_tuning').as_default():\n",
    "    hp.hparams_config(\n",
    "        hparams=[HP_NUM_UNITS, HP_DROPOUT, HP_OPTIMIZER],\n",
    "        metrics=[hp.Metric(METRIC_ACCURACY, display_name='Accuracy')],\n",
    "    )"
   ]
  },
  {
   "cell_type": "markdown",
   "id": "cd5fc63a-3b59-4d8e-9de4-4db9798f61cb",
   "metadata": {},
   "source": [
    "如果您选择跳过此步骤，您可以在任何使用 `HParam` 值的地方使用字符串文字：例如，`hparams['dropout']` 而不是 `hparams[HP_DROPOUT]`。"
   ]
  },
  {
   "cell_type": "markdown",
   "id": "1e112873-66e7-454b-99ce-a6e34a2d367f",
   "metadata": {},
   "source": [
    "# 2. Adapt TensorFlow runs to log hyperparameters and metrics\n",
    "\n",
    "模型将非常简单：两个 Dense 层，中间有一个 Dropout 层。尽管超参数不再硬编码，但训练代码看起来会很熟悉。超参数在 `hparams` 字典中提供，并在整个训练函数中使用："
   ]
  },
  {
   "cell_type": "code",
   "execution_count": 8,
   "id": "f03cf9d8-8719-4a9c-9d65-5095186357f1",
   "metadata": {},
   "outputs": [],
   "source": [
    "def train_test_model(hparams):\n",
    "    model = tf.keras.models.Sequential([\n",
    "    tf.keras.layers.Flatten(),\n",
    "    tf.keras.layers.Dense(hparams[HP_NUM_UNITS], activation=tf.nn.relu),\n",
    "    tf.keras.layers.Dropout(hparams[HP_DROPOUT]),\n",
    "    tf.keras.layers.Dense(10, activation=tf.nn.softmax),\n",
    "    ])\n",
    "    model.compile(\n",
    "      optimizer=hparams[HP_OPTIMIZER],\n",
    "      loss='sparse_categorical_crossentropy',\n",
    "      metrics=['accuracy'],\n",
    "    )\n",
    "\n",
    "    model.fit(x_train, y_train, epochs=1) # Run with 1 epoch to speed things up for demo purposes\n",
    "    _, accuracy = model.evaluate(x_test, y_test)\n",
    "    return accuracy "
   ]
  },
  {
   "cell_type": "markdown",
   "id": "93f20a2a-61f6-45aa-ab3a-ecec241bffa3",
   "metadata": {},
   "source": [
    "对于每次 run ，记录带有超参数和最终精度 hparams summary "
   ]
  },
  {
   "cell_type": "code",
   "execution_count": 9,
   "id": "91734320-1c83-4037-93a2-f16d5f80ce0c",
   "metadata": {},
   "outputs": [],
   "source": [
    "def run(run_dir, hparams):\n",
    "    with tf.summary.create_file_writer(run_dir).as_default():\n",
    "        hp.hparams(hparams)  # record the values used in this trial\n",
    "        accuracy = train_test_model(hparams)\n",
    "        tf.summary.scalar(METRIC_ACCURACY, accuracy, step=1)"
   ]
  },
  {
   "cell_type": "markdown",
   "id": "a6aefd5c-dec0-44db-844f-d867d1a894b7",
   "metadata": {},
   "source": [
    "在训练Keras模型时，您可以使用回调，而不是直接编写它们：\n",
    "\n",
    "```\n",
    "model.fit(\n",
    "    ...,\n",
    "    callbacks=[\n",
    "        tf.keras.callbacks.TensorBoard(logdir),  # log metrics\n",
    "        hp.KerasCallback(logdir, hparams),  # log hparams\n",
    "    ],\n",
    ")\n",
    "```\n"
   ]
  },
  {
   "cell_type": "markdown",
   "id": "2c124d1e-ccca-4d11-9860-39bdcf54602f",
   "metadata": {},
   "source": [
    "# 3. Start runs and log them all under one parent directory\n",
    "\n",
    "您现在可以尝试多个实验，用一组不同的超参数训练每个实验。\n",
    "\n",
    "为了简单起见，请使用网格搜索：尝试离散参数的所有组合，以及实值参数的下界和上界。对于更复杂的场景，随机选择每个超参数值可能更有效（这称为随机搜索）。可以使用更先进的方法。\n",
    "\n",
    "做一些实验，这需要几分钟："
   ]
  },
  {
   "cell_type": "code",
   "execution_count": 10,
   "id": "67d40d1d-21ea-4805-b0ed-1a632272b516",
   "metadata": {},
   "outputs": [
    {
     "name": "stdout",
     "output_type": "stream",
     "text": [
      "--- Starting trial: run-0\n",
      "{'num_units': 16, 'dropout': 0.1, 'optimizer': 'adam'}\n"
     ]
    },
    {
     "name": "stderr",
     "output_type": "stream",
     "text": [
      "2022-03-28 15:37:47.290042: I tensorflow/compiler/mlir/mlir_graph_optimization_pass.cc:185] None of the MLIR Optimization Passes are enabled (registered 2)\n",
      "2022-03-28 15:37:47.293251: W tensorflow/core/platform/profile_utils/cpu_utils.cc:128] Failed to get CPU frequency: 0 Hz\n",
      "2022-03-28 15:37:47.441948: I tensorflow/core/grappler/optimizers/custom_graph_optimizer_registry.cc:112] Plugin optimizer for device_type GPU is enabled.\n"
     ]
    },
    {
     "name": "stdout",
     "output_type": "stream",
     "text": [
      "1875/1875 [==============================] - 9s 5ms/step - loss: 0.6857 - accuracy: 0.7649\n",
      " 47/313 [===>..........................] - ETA: 0s - loss: 0.4836 - accuracy: 0.8431"
     ]
    },
    {
     "name": "stderr",
     "output_type": "stream",
     "text": [
      "2022-03-28 15:37:56.201833: I tensorflow/core/grappler/optimizers/custom_graph_optimizer_registry.cc:112] Plugin optimizer for device_type GPU is enabled.\n"
     ]
    },
    {
     "name": "stdout",
     "output_type": "stream",
     "text": [
      "313/313 [==============================] - 1s 4ms/step - loss: 0.5099 - accuracy: 0.8214\n",
      "--- Starting trial: run-1\n",
      "{'num_units': 16, 'dropout': 0.1, 'optimizer': 'sgd'}\n",
      "  22/1875 [..............................] - ETA: 9s - loss: 2.2635 - accuracy: 0.1634"
     ]
    },
    {
     "name": "stderr",
     "output_type": "stream",
     "text": [
      "2022-03-28 15:37:57.780612: I tensorflow/core/grappler/optimizers/custom_graph_optimizer_registry.cc:112] Plugin optimizer for device_type GPU is enabled.\n"
     ]
    },
    {
     "name": "stdout",
     "output_type": "stream",
     "text": [
      "1875/1875 [==============================] - 8s 4ms/step - loss: 0.9690 - accuracy: 0.6708\n",
      " 46/313 [===>..........................] - ETA: 0s - loss: 0.6609 - accuracy: 0.7860"
     ]
    },
    {
     "name": "stderr",
     "output_type": "stream",
     "text": [
      "2022-03-28 15:38:06.135873: I tensorflow/core/grappler/optimizers/custom_graph_optimizer_registry.cc:112] Plugin optimizer for device_type GPU is enabled.\n"
     ]
    },
    {
     "name": "stdout",
     "output_type": "stream",
     "text": [
      "313/313 [==============================] - 1s 3ms/step - loss: 0.6704 - accuracy: 0.7717\n",
      "--- Starting trial: run-2\n",
      "{'num_units': 16, 'dropout': 0.2, 'optimizer': 'adam'}\n",
      "  24/1875 [..............................] - ETA: 8s - loss: 2.0892 - accuracy: 0.2435"
     ]
    },
    {
     "name": "stderr",
     "output_type": "stream",
     "text": [
      "2022-03-28 15:38:07.583108: I tensorflow/core/grappler/optimizers/custom_graph_optimizer_registry.cc:112] Plugin optimizer for device_type GPU is enabled.\n"
     ]
    },
    {
     "name": "stdout",
     "output_type": "stream",
     "text": [
      "1875/1875 [==============================] - 8s 4ms/step - loss: 0.7159 - accuracy: 0.7557\n",
      " 48/313 [===>..........................] - ETA: 0s - loss: 0.4948 - accuracy: 0.8229"
     ]
    },
    {
     "name": "stderr",
     "output_type": "stream",
     "text": [
      "2022-03-28 15:38:15.869541: I tensorflow/core/grappler/optimizers/custom_graph_optimizer_registry.cc:112] Plugin optimizer for device_type GPU is enabled.\n"
     ]
    },
    {
     "name": "stdout",
     "output_type": "stream",
     "text": [
      "313/313 [==============================] - 1s 3ms/step - loss: 0.5162 - accuracy: 0.8159\n",
      "--- Starting trial: run-3\n",
      "{'num_units': 16, 'dropout': 0.2, 'optimizer': 'sgd'}\n",
      "  27/1875 [..............................] - ETA: 7s - loss: 2.2483 - accuracy: 0.1424"
     ]
    },
    {
     "name": "stderr",
     "output_type": "stream",
     "text": [
      "2022-03-28 15:38:17.293217: I tensorflow/core/grappler/optimizers/custom_graph_optimizer_registry.cc:112] Plugin optimizer for device_type GPU is enabled.\n"
     ]
    },
    {
     "name": "stdout",
     "output_type": "stream",
     "text": [
      "1875/1875 [==============================] - 8s 4ms/step - loss: 1.0660 - accuracy: 0.6276\n",
      " 47/313 [===>..........................] - ETA: 0s - loss: 0.6896 - accuracy: 0.7646"
     ]
    },
    {
     "name": "stderr",
     "output_type": "stream",
     "text": [
      "2022-03-28 15:38:24.988623: I tensorflow/core/grappler/optimizers/custom_graph_optimizer_registry.cc:112] Plugin optimizer for device_type GPU is enabled.\n"
     ]
    },
    {
     "name": "stdout",
     "output_type": "stream",
     "text": [
      "313/313 [==============================] - 1s 3ms/step - loss: 0.7006 - accuracy: 0.7604\n",
      "--- Starting trial: run-4\n",
      "{'num_units': 32, 'dropout': 0.1, 'optimizer': 'adam'}\n",
      "  21/1875 [..............................] - ETA: 9s - loss: 1.9314 - accuracy: 0.3259"
     ]
    },
    {
     "name": "stderr",
     "output_type": "stream",
     "text": [
      "2022-03-28 15:38:26.377637: I tensorflow/core/grappler/optimizers/custom_graph_optimizer_registry.cc:112] Plugin optimizer for device_type GPU is enabled.\n"
     ]
    },
    {
     "name": "stdout",
     "output_type": "stream",
     "text": [
      "1875/1875 [==============================] - 9s 5ms/step - loss: 0.5916 - accuracy: 0.7921\n",
      " 49/313 [===>..........................] - ETA: 0s - loss: 0.4334 - accuracy: 0.8438"
     ]
    },
    {
     "name": "stderr",
     "output_type": "stream",
     "text": [
      "2022-03-28 15:38:35.110746: I tensorflow/core/grappler/optimizers/custom_graph_optimizer_registry.cc:112] Plugin optimizer for device_type GPU is enabled.\n"
     ]
    },
    {
     "name": "stdout",
     "output_type": "stream",
     "text": [
      "313/313 [==============================] - 1s 3ms/step - loss: 0.4709 - accuracy: 0.8304\n",
      "--- Starting trial: run-5\n",
      "{'num_units': 32, 'dropout': 0.1, 'optimizer': 'sgd'}\n",
      "  27/1875 [..............................] - ETA: 7s - loss: 2.1626 - accuracy: 0.2292"
     ]
    },
    {
     "name": "stderr",
     "output_type": "stream",
     "text": [
      "2022-03-28 15:38:36.317028: I tensorflow/core/grappler/optimizers/custom_graph_optimizer_registry.cc:112] Plugin optimizer for device_type GPU is enabled.\n"
     ]
    },
    {
     "name": "stdout",
     "output_type": "stream",
     "text": [
      "1875/1875 [==============================] - 8s 4ms/step - loss: 0.8697 - accuracy: 0.7027\n",
      " 45/313 [===>..........................] - ETA: 0s - loss: 0.6165 - accuracy: 0.8049"
     ]
    },
    {
     "name": "stderr",
     "output_type": "stream",
     "text": [
      "2022-03-28 15:38:44.378772: I tensorflow/core/grappler/optimizers/custom_graph_optimizer_registry.cc:112] Plugin optimizer for device_type GPU is enabled.\n"
     ]
    },
    {
     "name": "stdout",
     "output_type": "stream",
     "text": [
      "313/313 [==============================] - 1s 4ms/step - loss: 0.6307 - accuracy: 0.7898\n",
      "--- Starting trial: run-6\n",
      "{'num_units': 32, 'dropout': 0.2, 'optimizer': 'adam'}\n",
      "  23/1875 [..............................] - ETA: 8s - loss: 1.8615 - accuracy: 0.3383"
     ]
    },
    {
     "name": "stderr",
     "output_type": "stream",
     "text": [
      "2022-03-28 15:38:45.731374: I tensorflow/core/grappler/optimizers/custom_graph_optimizer_registry.cc:112] Plugin optimizer for device_type GPU is enabled.\n"
     ]
    },
    {
     "name": "stdout",
     "output_type": "stream",
     "text": [
      "1875/1875 [==============================] - 9s 5ms/step - loss: 0.6339 - accuracy: 0.7801\n",
      " 47/313 [===>..........................] - ETA: 0s - loss: 0.4331 - accuracy: 0.8444"
     ]
    },
    {
     "name": "stderr",
     "output_type": "stream",
     "text": [
      "2022-03-28 15:38:54.389626: I tensorflow/core/grappler/optimizers/custom_graph_optimizer_registry.cc:112] Plugin optimizer for device_type GPU is enabled.\n"
     ]
    },
    {
     "name": "stdout",
     "output_type": "stream",
     "text": [
      "313/313 [==============================] - 1s 3ms/step - loss: 0.4601 - accuracy: 0.8369\n",
      "--- Starting trial: run-7\n",
      "{'num_units': 32, 'dropout': 0.2, 'optimizer': 'sgd'}\n",
      "  26/1875 [..............................] - ETA: 7s - loss: 2.1596 - accuracy: 0.2091"
     ]
    },
    {
     "name": "stderr",
     "output_type": "stream",
     "text": [
      "2022-03-28 15:38:55.741798: I tensorflow/core/grappler/optimizers/custom_graph_optimizer_registry.cc:112] Plugin optimizer for device_type GPU is enabled.\n"
     ]
    },
    {
     "name": "stdout",
     "output_type": "stream",
     "text": [
      "1875/1875 [==============================] - 8s 4ms/step - loss: 0.9377 - accuracy: 0.6774\n",
      " 48/313 [===>..........................] - ETA: 0s - loss: 0.6265 - accuracy: 0.8021"
     ]
    },
    {
     "name": "stderr",
     "output_type": "stream",
     "text": [
      "2022-03-28 15:39:03.860238: I tensorflow/core/grappler/optimizers/custom_graph_optimizer_registry.cc:112] Plugin optimizer for device_type GPU is enabled.\n"
     ]
    },
    {
     "name": "stdout",
     "output_type": "stream",
     "text": [
      "313/313 [==============================] - 1s 4ms/step - loss: 0.6407 - accuracy: 0.7815\n"
     ]
    }
   ],
   "source": [
    "session_num = 0\n",
    "\n",
    "for num_units in HP_NUM_UNITS.domain.values:\n",
    "    for dropout_rate in (HP_DROPOUT.domain.min_value, HP_DROPOUT.domain.max_value):\n",
    "    for optimizer in HP_OPTIMIZER.domain.values:\n",
    "        hparams = {\n",
    "          HP_NUM_UNITS: num_units,\n",
    "          HP_DROPOUT: dropout_rate,\n",
    "          HP_OPTIMIZER: optimizer,\n",
    "        }\n",
    "        run_name = \"run-%d\" % session_num\n",
    "        print('--- Starting trial: %s' % run_name)\n",
    "        print({h.name: hparams[h] for h in hparams})\n",
    "        run('logs/hparam_tuning/' + run_name, hparams)\n",
    "        session_num += 1"
   ]
  },
  {
   "cell_type": "markdown",
   "id": "1c7f1fbd-95cd-495c-966d-9b8d18a59ab3",
   "metadata": {},
   "source": [
    "# 4. Visualize the results in TensorBoard's HParams plugin\n",
    "\n",
    "现在可以打开 HParams dashboard。启动 TensorBoard，然后单击顶部的 “HParams”。\n",
    "\n",
    "- 筛选 dashboard 中显示的超参数/指标\n",
    "- 筛选 dashboard 中显示的超参数/指标 值\n",
    "- 筛选运行状态（running，success，...）\n",
    "- 在表视图中按超参数/指标排序\n",
    "- 要显示的 session 组数量（当有很多实验时对性能有用）\n",
    "\n",
    "HParams dashboard 有三种不同的视图，包含各种有用信息：\n",
    "\n",
    "- table 视图列出了运行、超参数和指标。\n",
    "- Parallel Coordinates View 将每个运行显示为一条穿过每个超参数和度量轴的线。在任何轴上单击并拖动鼠标，以标记仅突出显示通过该轴的运行的区域。这对于确定哪些组超参数最为重要非常有用。axis 本身可以通过拖动它们来重新排序。\n",
    "- Scatter Plot View 显示将每个超参数/指标与每个指标进行比较的绘图。这有助于识别相关性。单击并拖动以在特定绘图中选择一个区域，并在其他绘图中突出显示这些会话。\n",
    "\n",
    "可以单击  table row、parallel coordinates line 和 scatter plot market，以查看指标图，作为该 session 训练步骤的函数（尽管在本教程中，每次运行仅使用一个步骤）。\n",
    "\n",
    "要进一步探索 HParams dashboard 的功能，请下载一组带有更多实验的预先生成的日志："
   ]
  },
  {
   "cell_type": "code",
   "execution_count": 11,
   "id": "42ba76df-7ebe-4b0a-95b3-50b8b385252d",
   "metadata": {},
   "outputs": [],
   "source": [
    "%%bash\n",
    "wget -q 'https://storage.googleapis.com/download.tensorflow.org/tensorboard/hparams_demo_logs.zip'\n",
    "unzip -q hparams_demo_logs.zip -d logs/hparam_demo"
   ]
  },
  {
   "cell_type": "markdown",
   "id": "e87a8165-2c7f-4b56-a9e6-70b6872274c3",
   "metadata": {},
   "source": [
    "在TensorBoard中查看以下日志："
   ]
  },
  {
   "cell_type": "code",
   "execution_count": 12,
   "id": "6ca0b1b4-8e72-46bd-8be9-92380743548f",
   "metadata": {},
   "outputs": [
    {
     "data": {
      "text/html": [
       "\n",
       "      <iframe id=\"tensorboard-frame-4ad626c65381d09f\" width=\"100%\" height=\"800\" frameborder=\"0\">\n",
       "      </iframe>\n",
       "      <script>\n",
       "        (function() {\n",
       "          const frame = document.getElementById(\"tensorboard-frame-4ad626c65381d09f\");\n",
       "          const url = new URL(\"/\", window.location);\n",
       "          const port = 6006;\n",
       "          if (port) {\n",
       "            url.port = port;\n",
       "          }\n",
       "          frame.src = url;\n",
       "        })();\n",
       "      </script>\n",
       "    "
      ],
      "text/plain": [
       "<IPython.core.display.HTML object>"
      ]
     },
     "metadata": {},
     "output_type": "display_data"
    }
   ],
   "source": [
    "%tensorboard --logdir logs/hparam_demo"
   ]
  },
  {
   "cell_type": "code",
   "execution_count": null,
   "id": "5017e325-bf50-4067-be16-81d27e650ccf",
   "metadata": {},
   "outputs": [],
   "source": []
  }
 ],
 "metadata": {
  "kernelspec": {
   "display_name": "Python 3 (ipykernel)",
   "language": "python",
   "name": "python3"
  },
  "language_info": {
   "codemirror_mode": {
    "name": "ipython",
    "version": 3
   },
   "file_extension": ".py",
   "mimetype": "text/x-python",
   "name": "python",
   "nbconvert_exporter": "python",
   "pygments_lexer": "ipython3",
   "version": "3.8.12"
  }
 },
 "nbformat": 4,
 "nbformat_minor": 5
}
