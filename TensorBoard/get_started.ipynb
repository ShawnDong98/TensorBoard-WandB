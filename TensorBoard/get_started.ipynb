{
 "cells": [
  {
   "cell_type": "markdown",
   "id": "a3505673-5ca5-43bd-b18f-b6e86f1f596b",
   "metadata": {},
   "source": [
    "# Get started with TensorBoard\n",
    "\n",
    "在机器学习中，要改进一些东西，你通常需要能够度量它。TensorBoard是提供机器学习工作流程中所需的度量和可视化的工具。它能够跟踪实验指标，如损失和准确性，可视化模型 graph，将嵌入投影到较低维空间，等等。\n",
    "\n",
    "此快速入门将展示如何快速开始使用TensorBoard。本网站上的其余指南提供了有关特定功能的更多详细信息，其中许多不包括在这里。"
   ]
  },
  {
   "cell_type": "code",
   "execution_count": 1,
   "id": "115c85e1-df8b-4509-8461-ad0c933e3a46",
   "metadata": {},
   "outputs": [],
   "source": [
    "# Load the TensorBoard notebook extension\n",
    "%load_ext tensorboard"
   ]
  },
  {
   "cell_type": "code",
   "execution_count": 2,
   "id": "4a36b333-831c-4786-bd89-d799d273fe1b",
   "metadata": {},
   "outputs": [],
   "source": [
    "import tensorflow as tf\n",
    "import datetime"
   ]
  },
  {
   "cell_type": "code",
   "execution_count": 3,
   "id": "1aa7af66-a3df-47f7-8766-56b65d4732a7",
   "metadata": {},
   "outputs": [],
   "source": [
    "# Clear any logs from previous runs\n",
    "!rm -rf ./logs/ "
   ]
  },
  {
   "cell_type": "markdown",
   "id": "e54cd66e-c404-492f-aaed-839a105a32c2",
   "metadata": {},
   "source": [
    "以MNIST数据集为例，规范化数据并编写一个函数，创建一个简单的Keras模型，将图像分类为10个类。"
   ]
  },
  {
   "cell_type": "code",
   "execution_count": 4,
   "id": "97a1d459-0949-43ca-a86d-1649f6e58543",
   "metadata": {},
   "outputs": [],
   "source": [
    "mnist = tf.keras.datasets.mnist\n",
    "\n",
    "(x_train, y_train),(x_test, y_test) = mnist.load_data()\n",
    "x_train, x_test = x_train / 255.0, x_test / 255.0\n",
    "\n",
    "def create_model():\n",
    "    return tf.keras.models.Sequential([\n",
    "        tf.keras.layers.Flatten(input_shape=(28, 28)),\n",
    "        tf.keras.layers.Dense(512, activation='relu'),\n",
    "        tf.keras.layers.Dropout(0.2),\n",
    "        tf.keras.layers.Dense(10, activation='softmax')\n",
    "    ])"
   ]
  },
  {
   "cell_type": "markdown",
   "id": "99474a6d-66b7-4243-8425-63b4e6fc6415",
   "metadata": {},
   "source": [
    "## Using TensorBoard with Keras Model.fit()\n",
    "\n",
    "使用Keras的Model.fit()进行训练时，添加tf.keras.callbacks.TensorBoard回调可确保日志的创建和存储。此外，使用 `histogram_freq=1` 启用每个 epoch 的直方图计算（默认情况下关闭）。\n",
    "\n",
    "将日志放置在时间戳的子目录中，以便轻松选择不同的训练运行。"
   ]
  },
  {
   "cell_type": "code",
   "execution_count": 5,
   "id": "7f16f05b-58dd-430d-a0db-292db7e0fcd1",
   "metadata": {},
   "outputs": [
    {
     "name": "stderr",
     "output_type": "stream",
     "text": [
      "2022-03-21 09:34:51.589092: I tensorflow/core/common_runtime/pluggable_device/pluggable_device_factory.cc:305] Could not identify NUMA node of platform GPU ID 0, defaulting to 0. Your kernel may not have been built with NUMA support.\n",
      "2022-03-21 09:34:51.589423: I tensorflow/core/common_runtime/pluggable_device/pluggable_device_factory.cc:271] Created TensorFlow device (/job:localhost/replica:0/task:0/device:GPU:0 with 0 MB memory) -> physical PluggableDevice (device: 0, name: METAL, pci bus id: <undefined>)\n",
      "2022-03-21 09:34:51.693392: I tensorflow/core/profiler/lib/profiler_session.cc:131] Profiler session initializing.\n",
      "2022-03-21 09:34:51.693400: I tensorflow/core/profiler/lib/profiler_session.cc:146] Profiler session started.\n",
      "2022-03-21 09:34:51.693460: I tensorflow/core/profiler/lib/profiler_session.cc:164] Profiler session tear down.\n"
     ]
    },
    {
     "name": "stdout",
     "output_type": "stream",
     "text": [
      "Metal device set to: Apple M1\n"
     ]
    },
    {
     "name": "stderr",
     "output_type": "stream",
     "text": [
      "2022-03-21 09:34:52.298402: I tensorflow/compiler/mlir/mlir_graph_optimization_pass.cc:185] None of the MLIR Optimization Passes are enabled (registered 2)\n",
      "2022-03-21 09:34:52.299006: W tensorflow/core/platform/profile_utils/cpu_utils.cc:128] Failed to get CPU frequency: 0 Hz\n",
      "2022-03-21 09:34:52.409697: I tensorflow/core/grappler/optimizers/custom_graph_optimizer_registry.cc:112] Plugin optimizer for device_type GPU is enabled.\n"
     ]
    },
    {
     "name": "stdout",
     "output_type": "stream",
     "text": [
      "Epoch 1/5\n",
      "  33/1875 [..............................] - ETA: 9s - loss: 1.1729 - accuracy: 0.6525 "
     ]
    },
    {
     "name": "stderr",
     "output_type": "stream",
     "text": [
      "2022-03-21 09:34:53.263247: I tensorflow/core/profiler/lib/profiler_session.cc:131] Profiler session initializing.\n",
      "2022-03-21 09:34:53.263255: I tensorflow/core/profiler/lib/profiler_session.cc:146] Profiler session started.\n",
      "2022-03-21 09:34:53.268718: I tensorflow/core/profiler/lib/profiler_session.cc:66] Profiler session collecting data.\n",
      "2022-03-21 09:34:53.269358: I tensorflow/core/profiler/lib/profiler_session.cc:164] Profiler session tear down.\n",
      "2022-03-21 09:34:53.270442: I tensorflow/core/profiler/rpc/client/save_profile.cc:136] Creating directory: logs/fit/20220321-093451/train/plugins/profile/2022_03_21_09_34_53\n",
      "\n",
      "2022-03-21 09:34:53.270844: I tensorflow/core/profiler/rpc/client/save_profile.cc:142] Dumped gzipped tool data for trace.json.gz to logs/fit/20220321-093451/train/plugins/profile/2022_03_21_09_34_53/Shawns.local.trace.json.gz\n",
      "2022-03-21 09:34:53.271851: I tensorflow/core/profiler/rpc/client/save_profile.cc:136] Creating directory: logs/fit/20220321-093451/train/plugins/profile/2022_03_21_09_34_53\n",
      "\n",
      "2022-03-21 09:34:53.271948: I tensorflow/core/profiler/rpc/client/save_profile.cc:142] Dumped gzipped tool data for memory_profile.json.gz to logs/fit/20220321-093451/train/plugins/profile/2022_03_21_09_34_53/Shawns.local.memory_profile.json.gz\n",
      "2022-03-21 09:34:53.272323: I tensorflow/core/profiler/rpc/client/capture_profile.cc:251] Creating directory: logs/fit/20220321-093451/train/plugins/profile/2022_03_21_09_34_53\n",
      "Dumped tool data for xplane.pb to logs/fit/20220321-093451/train/plugins/profile/2022_03_21_09_34_53/Shawns.local.xplane.pb\n",
      "Dumped tool data for overview_page.pb to logs/fit/20220321-093451/train/plugins/profile/2022_03_21_09_34_53/Shawns.local.overview_page.pb\n",
      "Dumped tool data for input_pipeline.pb to logs/fit/20220321-093451/train/plugins/profile/2022_03_21_09_34_53/Shawns.local.input_pipeline.pb\n",
      "Dumped tool data for tensorflow_stats.pb to logs/fit/20220321-093451/train/plugins/profile/2022_03_21_09_34_53/Shawns.local.tensorflow_stats.pb\n",
      "Dumped tool data for kernel_stats.pb to logs/fit/20220321-093451/train/plugins/profile/2022_03_21_09_34_53/Shawns.local.kernel_stats.pb\n",
      "\n"
     ]
    },
    {
     "name": "stdout",
     "output_type": "stream",
     "text": [
      "1872/1875 [============================>.] - ETA: 0s - loss: 0.2151 - accuracy: 0.9357"
     ]
    },
    {
     "name": "stderr",
     "output_type": "stream",
     "text": [
      "2022-03-21 09:35:00.600243: I tensorflow/core/grappler/optimizers/custom_graph_optimizer_registry.cc:112] Plugin optimizer for device_type GPU is enabled.\n"
     ]
    },
    {
     "name": "stdout",
     "output_type": "stream",
     "text": [
      "1875/1875 [==============================] - 9s 4ms/step - loss: 0.2150 - accuracy: 0.9357 - val_loss: 0.1021 - val_accuracy: 0.9696\n",
      "Epoch 2/5\n",
      "1875/1875 [==============================] - 8s 4ms/step - loss: 0.0934 - accuracy: 0.9712 - val_loss: 0.0804 - val_accuracy: 0.9750\n",
      "Epoch 3/5\n",
      "1875/1875 [==============================] - 8s 4ms/step - loss: 0.0656 - accuracy: 0.9796 - val_loss: 0.0726 - val_accuracy: 0.9775\n",
      "Epoch 4/5\n",
      "1875/1875 [==============================] - 8s 4ms/step - loss: 0.0515 - accuracy: 0.9830 - val_loss: 0.0694 - val_accuracy: 0.9788\n",
      "Epoch 5/5\n",
      "1875/1875 [==============================] - 8s 4ms/step - loss: 0.0397 - accuracy: 0.9868 - val_loss: 0.0569 - val_accuracy: 0.9833\n"
     ]
    },
    {
     "data": {
      "text/plain": [
       "<keras.callbacks.History at 0x298160d30>"
      ]
     },
     "execution_count": 5,
     "metadata": {},
     "output_type": "execute_result"
    }
   ],
   "source": [
    "model = create_model()\n",
    "model.compile(optimizer='adam',\n",
    "              loss='sparse_categorical_crossentropy',\n",
    "              metrics=['accuracy'])\n",
    "\n",
    "log_dir = \"logs/fit/\" + datetime.datetime.now().strftime(\"%Y%m%d-%H%M%S\")\n",
    "tensorboard_callback = tf.keras.callbacks.TensorBoard(log_dir=log_dir, histogram_freq=1)\n",
    "\n",
    "model.fit(x=x_train, \n",
    "          y=y_train, \n",
    "          epochs=5, \n",
    "          validation_data=(x_test, y_test), \n",
    "          callbacks=[tensorboard_callback])"
   ]
  },
  {
   "cell_type": "markdown",
   "id": "9d0bb2c5-97ba-4f5f-a5c6-113b6f00d1b8",
   "metadata": {},
   "source": [
    "通过命令行或在 Notebook 中启动TensorBoard。这两个接口通常相同。在 Notebook 中，使用 %tensorboard。在命令行上，在没有“%”的情况下运行相同的命令。"
   ]
  },
  {
   "cell_type": "code",
   "execution_count": 6,
   "id": "1d25db13-c115-4bef-965c-352b0d5e2830",
   "metadata": {},
   "outputs": [
    {
     "data": {
      "text/html": [
       "\n",
       "      <iframe id=\"tensorboard-frame-e91b97817a10ad80\" width=\"100%\" height=\"800\" frameborder=\"0\">\n",
       "      </iframe>\n",
       "      <script>\n",
       "        (function() {\n",
       "          const frame = document.getElementById(\"tensorboard-frame-e91b97817a10ad80\");\n",
       "          const url = new URL(\"/\", window.location);\n",
       "          const port = 6006;\n",
       "          if (port) {\n",
       "            url.port = port;\n",
       "          }\n",
       "          frame.src = url;\n",
       "        })();\n",
       "      </script>\n",
       "    "
      ],
      "text/plain": [
       "<IPython.core.display.HTML object>"
      ]
     },
     "metadata": {},
     "output_type": "display_data"
    }
   ],
   "source": [
    "%tensorboard --logdir logs/fit"
   ]
  },
  {
   "cell_type": "markdown",
   "id": "2ebb5c4c-aa1b-4a35-a2ff-c40fb8f7f78d",
   "metadata": {},
   "source": [
    "显示的 dashboard 的简要概述（顶部导航栏中的标签）：\n",
    "\n",
    "- Scalars dashboard 显示损失和指标如何随每个 epoch 而变化。您还可以使用它来跟踪训练速度、学习率和其他标量值。\n",
    "- Graphs dashboard 可帮助您可视化模型。在这种情况下，会显示 Keras 层的 graph，这可以帮助您确保它正确构建。\n",
    "- Distributions 和 Histograms dashboard显示张量随着时间的推移的分布。这有助于可视化权重和偏置，并验证它们是否正在以预期的方式变化。\n",
    "\n",
    "当您记录其他类型的数据时，会自动启用其他TensorBoard插件。例如，Keras TensorBoard回调还允许您记录图像和嵌入。您可以通过单击右上角的 “inactive” 下拉菜单来查看TensorBoard中可用的其他插件。"
   ]
  },
  {
   "cell_type": "markdown",
   "id": "6a89a93b-3a1c-40b0-b096-318b0671f193",
   "metadata": {},
   "source": [
    "## Using TensorBoard with other methods\n",
    "\n",
    "使用 `tf.GradientTape()` 等方法进行训练时，使用 `tf.summary` 记录所需的信息。\n",
    "\n",
    "使用与上述相同的数据集，但将其转换为 `tf.data.Dataset` 以利用批处理功能："
   ]
  },
  {
   "cell_type": "code",
   "execution_count": 8,
   "id": "82f8b4ee-bada-45a2-929c-4e7ef19c7f2e",
   "metadata": {},
   "outputs": [],
   "source": [
    "train_dataset = tf.data.Dataset.from_tensor_slices((x_train, y_train))\n",
    "test_dataset = tf.data.Dataset.from_tensor_slices((x_test, y_test))\n",
    "\n",
    "train_dataset = train_dataset.shuffle(60000).batch(64)\n",
    "test_dataset = test_dataset.batch(64)"
   ]
  },
  {
   "cell_type": "markdown",
   "id": "46010ba9-0b96-4382-8ce0-1d72b72b36ba",
   "metadata": {},
   "source": [
    "训练代码遵循高级快速入门教程，但展示了如何将指标记录到TensorBoard。选择损失和优化器："
   ]
  },
  {
   "cell_type": "code",
   "execution_count": 10,
   "id": "f57c3cc6-fe7d-417d-9248-ec344d82e599",
   "metadata": {},
   "outputs": [],
   "source": [
    "loss_object = tf.keras.losses.SparseCategoricalCrossentropy()\n",
    "optimizer = tf.keras.optimizers.Adam()"
   ]
  },
  {
   "cell_type": "markdown",
   "id": "2521f34c-1001-4bc7-acab-a272543393e4",
   "metadata": {},
   "source": [
    "创建有状态指标，可用于在训练期间积累 value，并在任何时候记录："
   ]
  },
  {
   "cell_type": "code",
   "execution_count": 11,
   "id": "6d4a07b3-a2e8-47dc-a212-bc5082032328",
   "metadata": {},
   "outputs": [],
   "source": [
    "# Define our metrics\n",
    "train_loss = tf.keras.metrics.Mean('train_loss', dtype=tf.float32)\n",
    "train_accuracy = tf.keras.metrics.SparseCategoricalAccuracy('train_accuracy')\n",
    "test_loss = tf.keras.metrics.Mean('test_loss', dtype=tf.float32)\n",
    "test_accuracy = tf.keras.metrics.SparseCategoricalAccuracy('test_accuracy')"
   ]
  },
  {
   "cell_type": "markdown",
   "id": "c0efca83-4095-48d0-ad26-e683e8dc89e5",
   "metadata": {},
   "source": [
    "定义训练和测试函数："
   ]
  },
  {
   "cell_type": "code",
   "execution_count": 13,
   "id": "3b3bcba1-a431-48a8-a8e3-1dab69f2dc39",
   "metadata": {},
   "outputs": [],
   "source": [
    "def train_step(model, optimizer, x_train, y_train):\n",
    "    with tf.GradientTape() as tape:\n",
    "        predictions = model(x_train, training=True)\n",
    "        loss = loss_object(y_train, predictions)\n",
    "    grads = tape.gradient(loss, model.trainable_variables)\n",
    "    optimizer.apply_gradients(zip(grads, model.trainable_variables))\n",
    "\n",
    "    train_loss(loss)\n",
    "    train_accuracy(y_train, predictions)\n",
    "\n",
    "def test_step(model, x_test, y_test):\n",
    "    predictions = model(x_test)\n",
    "    loss = loss_object(y_test, predictions)\n",
    "\n",
    "    test_loss(loss)\n",
    "    test_accuracy(y_test, predictions)"
   ]
  },
  {
   "cell_type": "markdown",
   "id": "bab678a3-c09d-474f-8b18-6d005e81bb7b",
   "metadata": {},
   "source": [
    "设置summary writers，将摘要写入其他日志目录中的磁盘："
   ]
  },
  {
   "cell_type": "code",
   "execution_count": 14,
   "id": "080eb741-b707-4f79-8fef-d5901059864d",
   "metadata": {},
   "outputs": [],
   "source": [
    "current_time = datetime.datetime.now().strftime(\"%Y%m%d-%H%M%S\")\n",
    "train_log_dir = 'logs/gradient_tape/' + current_time + '/train'\n",
    "test_log_dir = 'logs/gradient_tape/' + current_time + '/test'\n",
    "train_summary_writer = tf.summary.create_file_writer(train_log_dir)\n",
    "test_summary_writer = tf.summary.create_file_writer(test_log_dir)"
   ]
  },
  {
   "cell_type": "markdown",
   "id": "2fad7246-2a5d-4a33-a095-0ac3b019b98b",
   "metadata": {},
   "source": [
    "开始训练。使用 `tf.summary.scalar()` 在 summary writers  范围内记录训练/测试期间的指标（损失和准确性），以便将 summary 写入磁盘。您可以控制要记录哪些指标以及记录频率。其他 `tf.summary` 函数允许记录其他类型的数据。"
   ]
  },
  {
   "cell_type": "code",
   "execution_count": 15,
   "id": "c3360062-3027-4335-afcc-a5fa4184127b",
   "metadata": {},
   "outputs": [
    {
     "name": "stdout",
     "output_type": "stream",
     "text": [
      "Epoch 1, Loss: 0.2440771609544754, Accuracy: 92.81666564941406, Test Loss: 0.12053029239177704, Test Accuracy: 96.5\n",
      "Epoch 2, Loss: 0.10263629257678986, Accuracy: 96.87833404541016, Test Loss: 0.0857343003153801, Test Accuracy: 97.38999938964844\n",
      "Epoch 3, Loss: 0.07240449637174606, Accuracy: 97.7750015258789, Test Loss: 0.07199572771787643, Test Accuracy: 97.74000549316406\n",
      "Epoch 4, Loss: 0.05271098390221596, Accuracy: 98.36666870117188, Test Loss: 0.07082069665193558, Test Accuracy: 97.7800064086914\n",
      "Epoch 5, Loss: 0.04215889424085617, Accuracy: 98.6866683959961, Test Loss: 0.06146417558193207, Test Accuracy: 97.97000122070312\n"
     ]
    }
   ],
   "source": [
    "model = create_model() # reset our model\n",
    "\n",
    "EPOCHS = 5\n",
    "\n",
    "for epoch in range(EPOCHS):\n",
    "    for (x_train, y_train) in train_dataset:\n",
    "        train_step(model, optimizer, x_train, y_train)\n",
    "    with train_summary_writer.as_default():\n",
    "        tf.summary.scalar('loss', train_loss.result(), step=epoch)\n",
    "        tf.summary.scalar('accuracy', train_accuracy.result(), step=epoch)\n",
    "\n",
    "    for (x_test, y_test) in test_dataset:\n",
    "        test_step(model, x_test, y_test)\n",
    "    with test_summary_writer.as_default():\n",
    "        tf.summary.scalar('loss', test_loss.result(), step=epoch)\n",
    "        tf.summary.scalar('accuracy', test_accuracy.result(), step=epoch)\n",
    "\n",
    "    template = 'Epoch {}, Loss: {}, Accuracy: {}, Test Loss: {}, Test Accuracy: {}'\n",
    "    print (template.format(epoch+1,\n",
    "                         train_loss.result(), \n",
    "                         train_accuracy.result()*100,\n",
    "                         test_loss.result(), \n",
    "                         test_accuracy.result()*100))\n",
    "\n",
    "    # Reset metrics every epoch\n",
    "    train_loss.reset_states()\n",
    "    test_loss.reset_states()\n",
    "    train_accuracy.reset_states()\n",
    "    test_accuracy.reset_states()"
   ]
  },
  {
   "cell_type": "markdown",
   "id": "783357fb-3c28-4c69-bc7d-efdae1309979",
   "metadata": {},
   "source": [
    "再次打开 TensorBoard，这次将其指向新的日志目录。我们也可以启动 TensorBoard 来监控训练的进展。"
   ]
  },
  {
   "cell_type": "code",
   "execution_count": 16,
   "id": "9a5d4140-b654-4980-8e60-1a235fc663b9",
   "metadata": {},
   "outputs": [
    {
     "data": {
      "text/html": [
       "\n",
       "      <iframe id=\"tensorboard-frame-331f631ec8c0512a\" width=\"100%\" height=\"800\" frameborder=\"0\">\n",
       "      </iframe>\n",
       "      <script>\n",
       "        (function() {\n",
       "          const frame = document.getElementById(\"tensorboard-frame-331f631ec8c0512a\");\n",
       "          const url = new URL(\"/\", window.location);\n",
       "          const port = 6007;\n",
       "          if (port) {\n",
       "            url.port = port;\n",
       "          }\n",
       "          frame.src = url;\n",
       "        })();\n",
       "      </script>\n",
       "    "
      ],
      "text/plain": [
       "<IPython.core.display.HTML object>"
      ]
     },
     "metadata": {},
     "output_type": "display_data"
    }
   ],
   "source": [
    "%tensorboard --logdir logs/gradient_tape"
   ]
  },
  {
   "cell_type": "markdown",
   "id": "7ec16d8f-ba4c-4573-b09f-a0eadb339395",
   "metadata": {},
   "source": [
    "就这样！您现在已经了解如何通过Keras回调和tf.summary使用TensorBoard来获得更多自定义场景。"
   ]
  },
  {
   "cell_type": "markdown",
   "id": "33469730-5864-4900-9073-b2a056a43b5d",
   "metadata": {},
   "source": [
    "## TensorBoard.dev: Host and share your ML experiment results\n",
    "\n",
    "TensorBoard.dev是一项免费的公共服务，使您能够上传TensorBoard日志并获得永久链接，可以在学术论文、博客文章、社交媒体等中与每个人共享。这可以实现更好的可复现性和协作性。\n",
    "\n",
    "要使用TensorBoard.dev，请运行以下命令：\n"
   ]
  },
  {
   "cell_type": "code",
   "execution_count": null,
   "id": "b9132331-dff8-4fd3-992e-9c496cbc0bcf",
   "metadata": {},
   "outputs": [
    {
     "name": "stdout",
     "output_type": "stream",
     "text": [
      "\n",
      "***** TensorBoard Uploader *****\n",
      "\n",
      "This will upload your TensorBoard logs to https://tensorboard.dev/ from\n",
      "the following directory:\n",
      "\n",
      "logs/fit\n",
      "\n",
      "This TensorBoard will be visible to everyone. Do not upload sensitive\n",
      "data.\n",
      "\n",
      "Your use of this service is subject to Google's Terms of Service\n",
      "<https://policies.google.com/terms> and Privacy Policy\n",
      "<https://policies.google.com/privacy>, and TensorBoard.dev's Terms of Service\n",
      "<https://tensorboard.dev/policy/terms/>.\n",
      "\n",
      "This notice will not be shown again while you are logged into the uploader.\n",
      "To log out, run `tensorboard dev auth revoke`.\n",
      "\n",
      "Continue? (yes/NO) "
     ]
    }
   ],
   "source": [
    "!tensorboard dev upload \\\n",
    "  --logdir logs/fit \\\n",
    "  --name \"(optional) My latest experiment\" \\\n",
    "  --description \"(optional) Simple comparison of several hyperparameters\" \\\n",
    "  --one_shot"
   ]
  }
 ],
 "metadata": {
  "kernelspec": {
   "display_name": "Python 3 (ipykernel)",
   "language": "python",
   "name": "python3"
  },
  "language_info": {
   "codemirror_mode": {
    "name": "ipython",
    "version": 3
   },
   "file_extension": ".py",
   "mimetype": "text/x-python",
   "name": "python",
   "nbconvert_exporter": "python",
   "pygments_lexer": "ipython3",
   "version": "3.8.12"
  }
 },
 "nbformat": 4,
 "nbformat_minor": 5
}
