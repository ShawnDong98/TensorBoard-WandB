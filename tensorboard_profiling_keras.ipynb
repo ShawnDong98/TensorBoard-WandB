{
 "cells": [
  {
   "cell_type": "markdown",
   "id": "ddede23e-62db-4e36-a9b2-a26c0185fd59",
   "metadata": {},
   "source": [
    "# TensorFlow Profiler: Profile model performance\n",
    "\n",
    "## Overview\n",
    "\n",
    "机器学习算法通常在计算上很昂贵。因此，量化机器学习应用程序的性能至关重要，以确保您运行最优化的模型版本。使用TensorFlow Profiler分析TensorFlow代码的执行。"
   ]
  },
  {
   "cell_type": "markdown",
   "id": "6a10a8ea-ebba-4e4f-905f-83d9e6b88450",
   "metadata": {},
   "source": [
    "## Setup"
   ]
  },
  {
   "cell_type": "code",
   "execution_count": 1,
   "id": "b4f143e8-f9c9-447d-9320-24438245fde0",
   "metadata": {},
   "outputs": [],
   "source": [
    "from datetime import datetime\n",
    "from packaging import version\n",
    "\n",
    "import os"
   ]
  },
  {
   "cell_type": "code",
   "execution_count": 2,
   "id": "16f82ba6-6c8f-4395-8751-c240161ea976",
   "metadata": {},
   "outputs": [
    {
     "name": "stdout",
     "output_type": "stream",
     "text": [
      "Requirement already satisfied: tensorboard_plugin_profile in /Users/shawnd/miniforge3/envs/keras/lib/python3.8/site-packages (2.8.0)\n",
      "Requirement already satisfied: gviz-api>=1.9.0 in /Users/shawnd/miniforge3/envs/keras/lib/python3.8/site-packages (from tensorboard_plugin_profile) (1.10.0)\n",
      "Requirement already satisfied: setuptools>=41.0.0 in /Users/shawnd/miniforge3/envs/keras/lib/python3.8/site-packages (from tensorboard_plugin_profile) (60.9.3)\n",
      "Requirement already satisfied: six>=1.10.0 in /Users/shawnd/miniforge3/envs/keras/lib/python3.8/site-packages (from tensorboard_plugin_profile) (1.15.0)\n",
      "Requirement already satisfied: werkzeug>=0.11.15 in /Users/shawnd/miniforge3/envs/keras/lib/python3.8/site-packages (from tensorboard_plugin_profile) (2.0.3)\n",
      "Requirement already satisfied: protobuf>=3.12.0 in /Users/shawnd/miniforge3/envs/keras/lib/python3.8/site-packages (from tensorboard_plugin_profile) (3.19.4)\n"
     ]
    }
   ],
   "source": [
    "!pip install -U tensorboard_plugin_profile"
   ]
  },
  {
   "cell_type": "code",
   "execution_count": 3,
   "id": "1075c7d0-7726-4f19-a516-50b7de8d60ae",
   "metadata": {},
   "outputs": [
    {
     "name": "stdout",
     "output_type": "stream",
     "text": [
      "TensorFlow version:  2.6.0\n"
     ]
    }
   ],
   "source": [
    "import tensorflow as tf\n",
    "\n",
    "print(\"TensorFlow version: \", tf.__version__)"
   ]
  },
  {
   "cell_type": "code",
   "execution_count": 4,
   "id": "5e1f9e56-69b0-4465-b278-9c4914d42cde",
   "metadata": {},
   "outputs": [
    {
     "name": "stdout",
     "output_type": "stream",
     "text": [
      "Found GPU at: /device:GPU:0\n"
     ]
    },
    {
     "name": "stderr",
     "output_type": "stream",
     "text": [
      "2022-04-25 21:27:48.660820: I tensorflow/core/common_runtime/pluggable_device/pluggable_device_factory.cc:305] Could not identify NUMA node of platform GPU ID 0, defaulting to 0. Your kernel may not have been built with NUMA support.\n",
      "2022-04-25 21:27:48.660912: I tensorflow/core/common_runtime/pluggable_device/pluggable_device_factory.cc:271] Created TensorFlow device (/device:GPU:0 with 0 MB memory) -> physical PluggableDevice (device: 0, name: METAL, pci bus id: <undefined>)\n"
     ]
    },
    {
     "name": "stdout",
     "output_type": "stream",
     "text": [
      "Metal device set to: Apple M1\n"
     ]
    }
   ],
   "source": [
    "device_name = tf.test.gpu_device_name()\n",
    "if not device_name:\n",
    "    raise SystemError('GPU device not found')\n",
    "print('Found GPU at: {}'.format(device_name))"
   ]
  },
  {
   "cell_type": "markdown",
   "id": "c1d91d01-95ab-4775-886f-1f3778355b6e",
   "metadata": {},
   "source": [
    "## 使用 TensorBoard 回调训练图像分类模型\n",
    "\n",
    "在本教程中，您将通过训练模型在MNIST数据集中对图像进行分类而获得的性能配置文件来探索TensorFlow Profiler的功能。\n",
    "\n",
    "使用 TensorFlow datasets 导入训练数据并将其拆分为训练和测试集。"
   ]
  },
  {
   "cell_type": "code",
   "execution_count": 5,
   "id": "5aa7cb9c-6c75-450a-a64d-d95f3f3de8bc",
   "metadata": {},
   "outputs": [
    {
     "name": "stdout",
     "output_type": "stream",
     "text": [
      "Requirement already satisfied: tensorflow_datasets in /Users/shawnd/miniforge3/envs/keras/lib/python3.8/site-packages (4.5.2)\n",
      "Requirement already satisfied: termcolor in /Users/shawnd/miniforge3/envs/keras/lib/python3.8/site-packages (from tensorflow_datasets) (1.1.0)\n",
      "Requirement already satisfied: numpy in /Users/shawnd/miniforge3/envs/keras/lib/python3.8/site-packages (from tensorflow_datasets) (1.22.3)\n",
      "Requirement already satisfied: absl-py in /Users/shawnd/miniforge3/envs/keras/lib/python3.8/site-packages (from tensorflow_datasets) (0.10.0)\n",
      "Requirement already satisfied: tensorflow-metadata in /Users/shawnd/miniforge3/envs/keras/lib/python3.8/site-packages (from tensorflow_datasets) (1.7.0)\n",
      "Requirement already satisfied: six in /Users/shawnd/miniforge3/envs/keras/lib/python3.8/site-packages (from tensorflow_datasets) (1.15.0)\n",
      "Requirement already satisfied: dill in /Users/shawnd/miniforge3/envs/keras/lib/python3.8/site-packages (from tensorflow_datasets) (0.3.4)\n",
      "Requirement already satisfied: importlib-resources in /Users/shawnd/miniforge3/envs/keras/lib/python3.8/site-packages (from tensorflow_datasets) (5.4.0)\n",
      "Requirement already satisfied: protobuf>=3.12.2 in /Users/shawnd/miniforge3/envs/keras/lib/python3.8/site-packages (from tensorflow_datasets) (3.19.4)\n",
      "Requirement already satisfied: tqdm in /Users/shawnd/miniforge3/envs/keras/lib/python3.8/site-packages (from tensorflow_datasets) (4.64.0)\n",
      "Requirement already satisfied: promise in /Users/shawnd/miniforge3/envs/keras/lib/python3.8/site-packages (from tensorflow_datasets) (2.3)\n",
      "Requirement already satisfied: requests>=2.19.0 in /Users/shawnd/miniforge3/envs/keras/lib/python3.8/site-packages (from tensorflow_datasets) (2.27.1)\n",
      "Requirement already satisfied: certifi>=2017.4.17 in /Users/shawnd/miniforge3/envs/keras/lib/python3.8/site-packages (from requests>=2.19.0->tensorflow_datasets) (2021.10.8)\n",
      "Requirement already satisfied: urllib3<1.27,>=1.21.1 in /Users/shawnd/miniforge3/envs/keras/lib/python3.8/site-packages (from requests>=2.19.0->tensorflow_datasets) (1.26.8)\n",
      "Requirement already satisfied: idna<4,>=2.5 in /Users/shawnd/miniforge3/envs/keras/lib/python3.8/site-packages (from requests>=2.19.0->tensorflow_datasets) (3.3)\n",
      "Requirement already satisfied: charset-normalizer~=2.0.0 in /Users/shawnd/miniforge3/envs/keras/lib/python3.8/site-packages (from requests>=2.19.0->tensorflow_datasets) (2.0.12)\n",
      "Requirement already satisfied: zipp>=3.1.0 in /Users/shawnd/miniforge3/envs/keras/lib/python3.8/site-packages (from importlib-resources->tensorflow_datasets) (3.7.0)\n",
      "Requirement already satisfied: googleapis-common-protos<2,>=1.52.0 in /Users/shawnd/miniforge3/envs/keras/lib/python3.8/site-packages (from tensorflow-metadata->tensorflow_datasets) (1.56.0)\n"
     ]
    }
   ],
   "source": [
    "!pip install tensorflow_datasets"
   ]
  },
  {
   "cell_type": "code",
   "execution_count": 6,
   "id": "37bf9853-96ec-47f3-9ee8-141bb6034c9f",
   "metadata": {},
   "outputs": [],
   "source": [
    "import tensorflow as tf\n",
    "from tensorflow import keras"
   ]
  },
  {
   "cell_type": "code",
   "execution_count": 7,
   "id": "6625e794-ee01-4515-bd70-c9e217b122b5",
   "metadata": {},
   "outputs": [],
   "source": [
    "# (ds_train, ds_test), ds_info = tfds.load(\n",
    "#     'mnist',\n",
    "#     split=['train', 'test'],\n",
    "#     shuffle_files=True,\n",
    "#     as_supervised=True,\n",
    "#     with_info=True,\n",
    "# )\n",
    "\n",
    "(x_train, y_train), (x_test, y_test) = keras.datasets.mnist.load_data(path=\"mnist.npz\")\n",
    "x_train = x_train / 255.\n",
    "x_test = x_test / 255.\n",
    "assert x_train.shape == (60000, 28, 28)\n",
    "assert x_test.shape == (10000, 28, 28)\n",
    "assert y_train.shape == (60000,)\n",
    "assert y_test.shape == (10000,)"
   ]
  },
  {
   "cell_type": "code",
   "execution_count": 8,
   "id": "1d41f666-4a41-4013-a5d6-dd4e69bc7894",
   "metadata": {},
   "outputs": [
    {
     "name": "stderr",
     "output_type": "stream",
     "text": [
      "2022-04-25 21:27:49.780183: I tensorflow/core/common_runtime/pluggable_device/pluggable_device_factory.cc:305] Could not identify NUMA node of platform GPU ID 0, defaulting to 0. Your kernel may not have been built with NUMA support.\n",
      "2022-04-25 21:27:49.780204: I tensorflow/core/common_runtime/pluggable_device/pluggable_device_factory.cc:271] Created TensorFlow device (/job:localhost/replica:0/task:0/device:GPU:0 with 0 MB memory) -> physical PluggableDevice (device: 0, name: METAL, pci bus id: <undefined>)\n"
     ]
    }
   ],
   "source": [
    "model = tf.keras.models.Sequential([\n",
    "  tf.keras.layers.Flatten(input_shape=(1, 28, 28)),\n",
    "  tf.keras.layers.Dense(128,activation='relu'),\n",
    "  tf.keras.layers.Dense(10, activation='softmax')\n",
    "])\n",
    "model.compile(\n",
    "    loss='sparse_categorical_crossentropy',\n",
    "    optimizer=tf.keras.optimizers.Adam(0.001),\n",
    "    metrics=['accuracy']\n",
    ")"
   ]
  },
  {
   "cell_type": "markdown",
   "id": "13fcce06-c3b2-4bb2-9b8c-4d152664a26e",
   "metadata": {},
   "source": [
    "创建一个TensorBoard回调，以捕获 performance profiles 文件，并在训练模型时调用它。"
   ]
  },
  {
   "cell_type": "code",
   "execution_count": 9,
   "id": "fd8e678e-c13d-4ada-86a0-991aeb8a6ca3",
   "metadata": {},
   "outputs": [
    {
     "name": "stderr",
     "output_type": "stream",
     "text": [
      "2022-04-25 21:27:49.826559: I tensorflow/core/profiler/lib/profiler_session.cc:131] Profiler session initializing.\n",
      "2022-04-25 21:27:49.826565: I tensorflow/core/profiler/lib/profiler_session.cc:146] Profiler session started.\n",
      "2022-04-25 21:27:49.826649: I tensorflow/core/profiler/lib/profiler_session.cc:164] Profiler session tear down.\n"
     ]
    },
    {
     "name": "stdout",
     "output_type": "stream",
     "text": [
      "Epoch 1/2\n",
      "WARNING:tensorflow:Model was constructed with shape (None, 1, 28, 28) for input KerasTensor(type_spec=TensorSpec(shape=(None, 1, 28, 28), dtype=tf.float32, name='flatten_input'), name='flatten_input', description=\"created by layer 'flatten_input'\"), but it was called on an input with incompatible shape (32, 28, 28).\n",
      "WARNING:tensorflow:Model was constructed with shape (None, 1, 28, 28) for input KerasTensor(type_spec=TensorSpec(shape=(None, 1, 28, 28), dtype=tf.float32, name='flatten_input'), name='flatten_input', description=\"created by layer 'flatten_input'\"), but it was called on an input with incompatible shape (32, 28, 28).\n",
      "   1/1875 [..............................] - ETA: 4:57 - loss: 2.3253 - accuracy: 0.1250"
     ]
    },
    {
     "name": "stderr",
     "output_type": "stream",
     "text": [
      "2022-04-25 21:27:50.255143: I tensorflow/compiler/mlir/mlir_graph_optimization_pass.cc:185] None of the MLIR Optimization Passes are enabled (registered 2)\n",
      "2022-04-25 21:27:50.255357: W tensorflow/core/platform/profile_utils/cpu_utils.cc:128] Failed to get CPU frequency: 0 Hz\n",
      "2022-04-25 21:27:50.345675: I tensorflow/core/grappler/optimizers/custom_graph_optimizer_registry.cc:112] Plugin optimizer for device_type GPU is enabled.\n"
     ]
    },
    {
     "name": "stdout",
     "output_type": "stream",
     "text": [
      " 551/1875 [=======>......................] - ETA: 3s - loss: 0.4238 - accuracy: 0.8843"
     ]
    },
    {
     "name": "stderr",
     "output_type": "stream",
     "text": [
      "2022-04-25 21:27:51.907339: I tensorflow/core/profiler/lib/profiler_session.cc:131] Profiler session initializing.\n",
      "2022-04-25 21:27:51.907349: I tensorflow/core/profiler/lib/profiler_session.cc:146] Profiler session started.\n",
      "2022-04-25 21:27:51.976458: I tensorflow/core/profiler/lib/profiler_session.cc:66] Profiler session collecting data.\n",
      "2022-04-25 21:27:51.978554: I tensorflow/core/profiler/lib/profiler_session.cc:164] Profiler session tear down.\n",
      "2022-04-25 21:27:51.980839: I tensorflow/core/profiler/rpc/client/save_profile.cc:136] Creating directory: logs/20220425-212749/train/plugins/profile/2022_04_25_21_27_51\n",
      "\n",
      "2022-04-25 21:27:51.983123: I tensorflow/core/profiler/rpc/client/save_profile.cc:142] Dumped gzipped tool data for trace.json.gz to logs/20220425-212749/train/plugins/profile/2022_04_25_21_27_51/Shawns.local.trace.json.gz\n",
      "2022-04-25 21:27:51.984320: I tensorflow/core/profiler/rpc/client/save_profile.cc:136] Creating directory: logs/20220425-212749/train/plugins/profile/2022_04_25_21_27_51\n",
      "\n",
      "2022-04-25 21:27:51.984415: I tensorflow/core/profiler/rpc/client/save_profile.cc:142] Dumped gzipped tool data for memory_profile.json.gz to logs/20220425-212749/train/plugins/profile/2022_04_25_21_27_51/Shawns.local.memory_profile.json.gz\n",
      "2022-04-25 21:27:51.984945: I tensorflow/core/profiler/rpc/client/capture_profile.cc:251] Creating directory: logs/20220425-212749/train/plugins/profile/2022_04_25_21_27_51\n",
      "Dumped tool data for xplane.pb to logs/20220425-212749/train/plugins/profile/2022_04_25_21_27_51/Shawns.local.xplane.pb\n",
      "Dumped tool data for overview_page.pb to logs/20220425-212749/train/plugins/profile/2022_04_25_21_27_51/Shawns.local.overview_page.pb\n",
      "Dumped tool data for input_pipeline.pb to logs/20220425-212749/train/plugins/profile/2022_04_25_21_27_51/Shawns.local.input_pipeline.pb\n",
      "Dumped tool data for tensorflow_stats.pb to logs/20220425-212749/train/plugins/profile/2022_04_25_21_27_51/Shawns.local.tensorflow_stats.pb\n",
      "Dumped tool data for kernel_stats.pb to logs/20220425-212749/train/plugins/profile/2022_04_25_21_27_51/Shawns.local.kernel_stats.pb\n",
      "\n"
     ]
    },
    {
     "name": "stdout",
     "output_type": "stream",
     "text": [
      "1873/1875 [============================>.] - ETA: 0s - loss: 0.2542 - accuracy: 0.9285WARNING:tensorflow:Model was constructed with shape (None, 1, 28, 28) for input KerasTensor(type_spec=TensorSpec(shape=(None, 1, 28, 28), dtype=tf.float32, name='flatten_input'), name='flatten_input', description=\"created by layer 'flatten_input'\"), but it was called on an input with incompatible shape (None, 28, 28).\n"
     ]
    },
    {
     "name": "stderr",
     "output_type": "stream",
     "text": [
      "2022-04-25 21:27:56.116691: I tensorflow/core/grappler/optimizers/custom_graph_optimizer_registry.cc:112] Plugin optimizer for device_type GPU is enabled.\n"
     ]
    },
    {
     "name": "stdout",
     "output_type": "stream",
     "text": [
      "1875/1875 [==============================] - 7s 3ms/step - loss: 0.2540 - accuracy: 0.9285 - val_loss: 0.1379 - val_accuracy: 0.9593\n",
      "Epoch 2/2\n",
      "1875/1875 [==============================] - 6s 3ms/step - loss: 0.1090 - accuracy: 0.9676 - val_loss: 0.0966 - val_accuracy: 0.9720\n"
     ]
    },
    {
     "data": {
      "text/plain": [
       "<keras.callbacks.History at 0x28edb15b0>"
      ]
     },
     "execution_count": 9,
     "metadata": {},
     "output_type": "execute_result"
    }
   ],
   "source": [
    "# Create a TensorBoard callback\n",
    "logs = \"logs/\" + datetime.now().strftime(\"%Y%m%d-%H%M%S\")\n",
    "\n",
    "tboard_callback = tf.keras.callbacks.TensorBoard(log_dir = logs,\n",
    "                                                 histogram_freq = 1,\n",
    "                                                 profile_batch = '500,520')\n",
    "\n",
    "model.fit(x_train, \n",
    "          y_train,\n",
    "          epochs=2,\n",
    "          validation_data=(x_test, y_test),\n",
    "          callbacks = [tboard_callback])"
   ]
  },
  {
   "cell_type": "markdown",
   "id": "1d56deef-4a9d-4c8c-b1a9-43f6dfcf94e0",
   "metadata": {},
   "source": [
    "## Use the TensorFlow Profiler to profile model training performance\n",
    "\n",
    "TensorFlow Profiler 嵌入在 TensorBoard 中。使用 Colab 魔法加载 TensorBoard 并启动它。通过导航到 `Profile` 选项卡来查看 performance profiles 文件。"
   ]
  },
  {
   "cell_type": "code",
   "execution_count": 11,
   "id": "096fff60-419d-40a3-bdb3-d4188d9c70a4",
   "metadata": {},
   "outputs": [],
   "source": [
    "# Load the TensorBoard notebook extension.\n",
    "%load_ext tensorboard"
   ]
  },
  {
   "cell_type": "markdown",
   "id": "f4c11b6d-cbd4-4841-bdb4-0027fbdef79a",
   "metadata": {},
   "source": [
    "该模型的 performance profile 文件与下图相似。"
   ]
  },
  {
   "cell_type": "code",
   "execution_count": 12,
   "id": "46932222-a0b6-42c5-aea6-55a29b391a9b",
   "metadata": {},
   "outputs": [
    {
     "data": {
      "text/html": [
       "\n",
       "      <iframe id=\"tensorboard-frame-43632b9fcb44cfc7\" width=\"100%\" height=\"800\" frameborder=\"0\">\n",
       "      </iframe>\n",
       "      <script>\n",
       "        (function() {\n",
       "          const frame = document.getElementById(\"tensorboard-frame-43632b9fcb44cfc7\");\n",
       "          const url = new URL(\"/\", window.location);\n",
       "          const port = 6007;\n",
       "          if (port) {\n",
       "            url.port = port;\n",
       "          }\n",
       "          frame.src = url;\n",
       "        })();\n",
       "      </script>\n",
       "    "
      ],
      "text/plain": [
       "<IPython.core.display.HTML object>"
      ]
     },
     "metadata": {},
     "output_type": "display_data"
    }
   ],
   "source": [
    "# Launch TensorBoard and navigate to the Profile tab to view performance profile\n",
    "%tensorboard --logdir=logs"
   ]
  },
  {
   "cell_type": "markdown",
   "id": "6149679b-78c0-45a3-b35f-60b24a37f6c5",
   "metadata": {},
   "source": [
    "**Profile** tab 打开一个 Overview 页面， 其展示你的模型表现的 high-level summary。 看一下右侧的 Step-time Graph, 你可以看到模型的输入边界(例如， 它花费大量的时间在 data input pipleline)。Overview 页面给你一些接下来优化模型表现地建议。\n",
    "\n",
    "为了理解 input pipeline 中出现的性能瓶颈， 选择左侧 **Tools** 中 **Trace Viewer**。 Trace Viewer 向你展示在 Profiling 期间， CPU 和 GPU 出现的不同事件。\n",
    "\n",
    "Trance Viewer 在垂直轴上展现多个事件组。 每个事件组有多个水平 tracks， 填满了 trace events。 track 是在一个线程或一个 GPU 流的 event 时间线。 单个事件在时间线 tracks 上是彩色的矩形块。 事件从左向右移动。 使用键盘快捷键 `W`(zoom in), `S` (zoom out), `A`(scroll left), 和 `D`(scroll right)。\n",
    "\n",
    "一个单个矩形表示一个 trace 事件。 在 floating tool bar 中选择鼠标光标(或者使用键盘快捷键 `1`) 并且 点积 trace event 分析它。 这回展示关于该事件的信息， 比如开始时间和持续时间。\n",
    "\n",
    "除了点击， 你可以拖拽鼠标选择 trace events 的组。 这会给你一组沿着一个 event summary 的 events 列表。使用 `M` 健来测量所选事件持续的时间。\n",
    "\n",
    "trace event 收集来自于：\n",
    "\n",
    "- **CPU**： CPU 时间在一个叫做 `/host:CPU` 的事件组下展示。 每个 track 表示一个在 CPU 的线程。 CPU events 包括多个 input pipeline events, GPU operation(op) scheduling events, CPU op execution events etc.\n",
    "- **GPU**： "
   ]
  }
 ],
 "metadata": {
  "kernelspec": {
   "display_name": "Python 3 (ipykernel)",
   "language": "python",
   "name": "python3"
  },
  "language_info": {
   "codemirror_mode": {
    "name": "ipython",
    "version": 3
   },
   "file_extension": ".py",
   "mimetype": "text/x-python",
   "name": "python",
   "nbconvert_exporter": "python",
   "pygments_lexer": "ipython3",
   "version": "3.8.12"
  }
 },
 "nbformat": 4,
 "nbformat_minor": 5
}
