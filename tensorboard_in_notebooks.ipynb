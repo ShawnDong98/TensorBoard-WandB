{
 "cells": [
  {
   "cell_type": "markdown",
   "id": "36241dd3-9bcc-4f05-a6fa-b3580b7f1cb6",
   "metadata": {},
   "source": [
    "# Using TensorBoard in Notebooks\n",
    "\n",
    "TensorBoard可以直接在 Colab 和 Jupyter 等笔记本体验中使用。这有助于分享结果，将 TensorBoard 集成到现有工作流程中，并在不本地安装任何东西的情况下使用TensorBoard。"
   ]
  },
  {
   "cell_type": "markdown",
   "id": "63923ee8-395e-4eea-9232-3c5a9dd052ad",
   "metadata": {},
   "source": [
    "## Setup\n",
    "\n",
    "首先安装 TF 2.0 并加载 TensorBoard Notebook扩展：\n",
    "\n",
    "**For Jupyter users:** 如果您已将 Jupyter 和 TensorBoard 安装到同一个虚拟环境中，那么您应该可以继续了。如果您使用的是更复杂的设置，例如全局 Jupyter安装 和 不同 Conda/virtualenv 环境的内核，那么您必须确保 `tensorboard` 二进制文件位于 Jupyter Notebook 上下文中的 `PATH` 上。一种方法是修改 `kernel_spec`，使其在环境的 `bin` 目录到 `PATH`。\n",
    "\n",
    "**For Docker users:** 如果您使用 TensorFlow nightly 运行 Jupyter Notebook服务器 的Docker镜像，不仅需要公开 Notebook 的端口，还需要公开 TensorBoard 的端口。因此，使用以下命令运行容器：\n",
    "\n",
    "```\n",
    "docker run -it -p 8888:8888 -p 6006:6006 \\\n",
    "tensorflow/tensorflow:nightly-py3-jupyter\n",
    "```\n",
    "\n",
    "\n",
    "其中 `-p 6006` 是TensorBoard的默认端口。这将为您分配一个端口来运行一个 `TensorBoard` 实例。要拥有并发实例，需要分配更多端口。此外，将 `--bind_all` 传递给 `%tensorboard`，以暴露容器外的端口。"
   ]
  },
  {
   "cell_type": "code",
   "execution_count": 1,
   "id": "4c206bd6-cc6e-4ad8-a438-786076d95170",
   "metadata": {},
   "outputs": [],
   "source": [
    "# Load the TensorBoard notebook extension\n",
    "%load_ext tensorboard"
   ]
  },
  {
   "cell_type": "code",
   "execution_count": 2,
   "id": "758c7855-fb6f-4608-9e65-571e95af7149",
   "metadata": {},
   "outputs": [],
   "source": [
    "import tensorflow as tf\n",
    "import datetime, os"
   ]
  },
  {
   "cell_type": "markdown",
   "id": "1a08982e-5f87-4045-9390-562aae3ed302",
   "metadata": {},
   "source": [
    "## TensorBoard in notebooks"
   ]
  },
  {
   "cell_type": "code",
   "execution_count": 3,
   "id": "32f0fbfd-99f4-4332-83b2-70589f0c4277",
   "metadata": {},
   "outputs": [],
   "source": [
    "fashion_mnist = tf.keras.datasets.fashion_mnist\n",
    "\n",
    "(x_train, y_train),(x_test, y_test) = fashion_mnist.load_data()\n",
    "x_train, x_test = x_train / 255.0, x_test / 255.0"
   ]
  },
  {
   "cell_type": "code",
   "execution_count": 5,
   "id": "f7fda36c-0dee-4c4d-8d11-5c589523dce1",
   "metadata": {},
   "outputs": [],
   "source": [
    "def create_model():\n",
    "    return tf.keras.models.Sequential([\n",
    "        tf.keras.layers.Flatten(input_shape=(28, 28)),\n",
    "        tf.keras.layers.Dense(512, activation='relu'),\n",
    "        tf.keras.layers.Dropout(0.2),\n",
    "        tf.keras.layers.Dense(10, activation='softmax')\n",
    "    ])"
   ]
  },
  {
   "cell_type": "markdown",
   "id": "20b17d0d-b088-4c6d-939d-cd2b0c61a031",
   "metadata": {},
   "source": [
    "使用 Keras 和 TensorBoard 回调训练模型："
   ]
  },
  {
   "cell_type": "code",
   "execution_count": 6,
   "id": "2beffb99-e10a-4a3f-bcb8-7240055740ec",
   "metadata": {},
   "outputs": [
    {
     "name": "stderr",
     "output_type": "stream",
     "text": [
      "2022-04-25 20:48:41.533878: I tensorflow/core/common_runtime/pluggable_device/pluggable_device_factory.cc:305] Could not identify NUMA node of platform GPU ID 0, defaulting to 0. Your kernel may not have been built with NUMA support.\n",
      "2022-04-25 20:48:41.534681: I tensorflow/core/common_runtime/pluggable_device/pluggable_device_factory.cc:271] Created TensorFlow device (/job:localhost/replica:0/task:0/device:GPU:0 with 0 MB memory) -> physical PluggableDevice (device: 0, name: METAL, pci bus id: <undefined>)\n",
      "2022-04-25 20:48:41.674278: I tensorflow/core/profiler/lib/profiler_session.cc:131] Profiler session initializing.\n",
      "2022-04-25 20:48:41.674286: I tensorflow/core/profiler/lib/profiler_session.cc:146] Profiler session started.\n",
      "2022-04-25 20:48:41.674662: I tensorflow/core/profiler/lib/profiler_session.cc:164] Profiler session tear down.\n"
     ]
    },
    {
     "name": "stdout",
     "output_type": "stream",
     "text": [
      "Metal device set to: Apple M1\n"
     ]
    },
    {
     "name": "stderr",
     "output_type": "stream",
     "text": [
      "2022-04-25 20:48:42.250250: I tensorflow/compiler/mlir/mlir_graph_optimization_pass.cc:185] None of the MLIR Optimization Passes are enabled (registered 2)\n",
      "2022-04-25 20:48:42.252959: W tensorflow/core/platform/profile_utils/cpu_utils.cc:128] Failed to get CPU frequency: 0 Hz\n",
      "2022-04-25 20:48:42.355240: I tensorflow/core/grappler/optimizers/custom_graph_optimizer_registry.cc:112] Plugin optimizer for device_type GPU is enabled.\n"
     ]
    },
    {
     "name": "stdout",
     "output_type": "stream",
     "text": [
      "Epoch 1/5\n",
      "  40/1875 [..............................] - ETA: 7s - loss: 1.1017 - accuracy: 0.5969"
     ]
    },
    {
     "name": "stderr",
     "output_type": "stream",
     "text": [
      "2022-04-25 20:48:42.469903: I tensorflow/core/profiler/lib/profiler_session.cc:131] Profiler session initializing.\n",
      "2022-04-25 20:48:42.469914: I tensorflow/core/profiler/lib/profiler_session.cc:146] Profiler session started.\n",
      "2022-04-25 20:48:42.475257: I tensorflow/core/profiler/lib/profiler_session.cc:66] Profiler session collecting data.\n",
      "2022-04-25 20:48:42.477483: I tensorflow/core/profiler/lib/profiler_session.cc:164] Profiler session tear down.\n",
      "2022-04-25 20:48:42.480929: I tensorflow/core/profiler/rpc/client/save_profile.cc:136] Creating directory: logs/20220425-204841/train/plugins/profile/2022_04_25_20_48_42\n",
      "\n",
      "2022-04-25 20:48:42.481746: I tensorflow/core/profiler/rpc/client/save_profile.cc:142] Dumped gzipped tool data for trace.json.gz to logs/20220425-204841/train/plugins/profile/2022_04_25_20_48_42/Shawns.local.trace.json.gz\n",
      "2022-04-25 20:48:42.483909: I tensorflow/core/profiler/rpc/client/save_profile.cc:136] Creating directory: logs/20220425-204841/train/plugins/profile/2022_04_25_20_48_42\n",
      "\n",
      "2022-04-25 20:48:42.484012: I tensorflow/core/profiler/rpc/client/save_profile.cc:142] Dumped gzipped tool data for memory_profile.json.gz to logs/20220425-204841/train/plugins/profile/2022_04_25_20_48_42/Shawns.local.memory_profile.json.gz\n",
      "2022-04-25 20:48:42.484534: I tensorflow/core/profiler/rpc/client/capture_profile.cc:251] Creating directory: logs/20220425-204841/train/plugins/profile/2022_04_25_20_48_42\n",
      "Dumped tool data for xplane.pb to logs/20220425-204841/train/plugins/profile/2022_04_25_20_48_42/Shawns.local.xplane.pb\n",
      "Dumped tool data for overview_page.pb to logs/20220425-204841/train/plugins/profile/2022_04_25_20_48_42/Shawns.local.overview_page.pb\n",
      "Dumped tool data for input_pipeline.pb to logs/20220425-204841/train/plugins/profile/2022_04_25_20_48_42/Shawns.local.input_pipeline.pb\n",
      "Dumped tool data for tensorflow_stats.pb to logs/20220425-204841/train/plugins/profile/2022_04_25_20_48_42/Shawns.local.tensorflow_stats.pb\n",
      "Dumped tool data for kernel_stats.pb to logs/20220425-204841/train/plugins/profile/2022_04_25_20_48_42/Shawns.local.kernel_stats.pb\n",
      "\n"
     ]
    },
    {
     "name": "stdout",
     "output_type": "stream",
     "text": [
      "1866/1875 [============================>.] - ETA: 0s - loss: 0.4944 - accuracy: 0.8220"
     ]
    },
    {
     "name": "stderr",
     "output_type": "stream",
     "text": [
      "2022-04-25 20:48:49.551681: I tensorflow/core/grappler/optimizers/custom_graph_optimizer_registry.cc:112] Plugin optimizer for device_type GPU is enabled.\n"
     ]
    },
    {
     "name": "stdout",
     "output_type": "stream",
     "text": [
      "1875/1875 [==============================] - 8s 4ms/step - loss: 0.4940 - accuracy: 0.8222 - val_loss: 0.4304 - val_accuracy: 0.8416\n",
      "Epoch 2/5\n",
      "1875/1875 [==============================] - 8s 4ms/step - loss: 0.3786 - accuracy: 0.8613 - val_loss: 0.3789 - val_accuracy: 0.8628\n",
      "Epoch 3/5\n",
      "1875/1875 [==============================] - 8s 4ms/step - loss: 0.3435 - accuracy: 0.8737 - val_loss: 0.3786 - val_accuracy: 0.8664\n",
      "Epoch 4/5\n",
      "1875/1875 [==============================] - 8s 4ms/step - loss: 0.3243 - accuracy: 0.8806 - val_loss: 0.3544 - val_accuracy: 0.8715\n",
      "Epoch 5/5\n",
      "1875/1875 [==============================] - 8s 4ms/step - loss: 0.3048 - accuracy: 0.8862 - val_loss: 0.3476 - val_accuracy: 0.8760\n"
     ]
    }
   ],
   "source": [
    "def train_model():\n",
    "  \n",
    "    model = create_model()\n",
    "    model.compile(optimizer='adam',\n",
    "                loss='sparse_categorical_crossentropy',\n",
    "                metrics=['accuracy'])\n",
    "\n",
    "    logdir = os.path.join(\"logs\", datetime.datetime.now().strftime(\"%Y%m%d-%H%M%S\"))\n",
    "    tensorboard_callback = tf.keras.callbacks.TensorBoard(logdir, histogram_freq=1)\n",
    "\n",
    "    model.fit(x=x_train, \n",
    "            y=y_train, \n",
    "            epochs=5, \n",
    "            validation_data=(x_test, y_test), \n",
    "            callbacks=[tensorboard_callback])\n",
    "\n",
    "train_model()"
   ]
  },
  {
   "cell_type": "code",
   "execution_count": 7,
   "id": "3695e004-b789-4edc-99c5-aa7b63bdb095",
   "metadata": {},
   "outputs": [
    {
     "data": {
      "text/html": [
       "\n",
       "      <iframe id=\"tensorboard-frame-90380bc61ee284a1\" width=\"100%\" height=\"800\" frameborder=\"0\">\n",
       "      </iframe>\n",
       "      <script>\n",
       "        (function() {\n",
       "          const frame = document.getElementById(\"tensorboard-frame-90380bc61ee284a1\");\n",
       "          const url = new URL(\"/\", window.location);\n",
       "          const port = 6006;\n",
       "          if (port) {\n",
       "            url.port = port;\n",
       "          }\n",
       "          frame.src = url;\n",
       "        })();\n",
       "      </script>\n",
       "    "
      ],
      "text/plain": [
       "<IPython.core.display.HTML object>"
      ]
     },
     "metadata": {},
     "output_type": "display_data"
    }
   ],
   "source": [
    "%tensorboard --logdir logs"
   ]
  },
  {
   "cell_type": "markdown",
   "id": "ea998965-c4ca-47b4-8918-a2aeeec7211d",
   "metadata": {},
   "source": [
    "您现在可以查看 dashboards，如标量、图表、直方图等。Colab中尚未提供某些 dashboards（例如 profile 插件）。\n",
    "\n",
    "`%tensorboard` 魔术的格式与 TensorBoard 命令行调用完全相同，但前面有一个%符号。\n",
    "\n",
    "您还可以在训练前启动TensorBoard，以监控它的进展："
   ]
  },
  {
   "cell_type": "code",
   "execution_count": 8,
   "id": "3163e040-1865-45ec-b2e2-d961352846fd",
   "metadata": {},
   "outputs": [
    {
     "data": {
      "text/plain": [
       "Reusing TensorBoard on port 6006 (pid 30953), started 0:04:43 ago. (Use '!kill 30953' to kill it.)"
      ]
     },
     "metadata": {},
     "output_type": "display_data"
    },
    {
     "data": {
      "text/html": [
       "\n",
       "      <iframe id=\"tensorboard-frame-5239099db9e87d19\" width=\"100%\" height=\"800\" frameborder=\"0\">\n",
       "      </iframe>\n",
       "      <script>\n",
       "        (function() {\n",
       "          const frame = document.getElementById(\"tensorboard-frame-5239099db9e87d19\");\n",
       "          const url = new URL(\"/\", window.location);\n",
       "          const port = 6006;\n",
       "          if (port) {\n",
       "            url.port = port;\n",
       "          }\n",
       "          frame.src = url;\n",
       "        })();\n",
       "      </script>\n",
       "    "
      ],
      "text/plain": [
       "<IPython.core.display.HTML object>"
      ]
     },
     "metadata": {},
     "output_type": "display_data"
    }
   ],
   "source": [
    "%tensorboard --logdir logs"
   ]
  },
  {
   "cell_type": "markdown",
   "id": "82fa8ef5-eb53-48d5-bda1-e1b54fbaa7ed",
   "metadata": {},
   "source": [
    "通过发出相同的命令来重用相同的TensorBoard后端。如果选择不同的日志目录，将打开一个新的TensorBoard实例。端口会自动管理。\n",
    "\n",
    "开始训练新的模型，每30秒自动查看 TensorBoard 更新，或使用右上角的按钮刷新它："
   ]
  },
  {
   "cell_type": "code",
   "execution_count": 9,
   "id": "429d252c-1552-498f-8a94-0fede241b5fd",
   "metadata": {},
   "outputs": [
    {
     "name": "stderr",
     "output_type": "stream",
     "text": [
      "2022-04-25 20:58:02.660704: I tensorflow/core/profiler/lib/profiler_session.cc:131] Profiler session initializing.\n",
      "2022-04-25 20:58:02.660716: I tensorflow/core/profiler/lib/profiler_session.cc:146] Profiler session started.\n",
      "2022-04-25 20:58:02.660811: I tensorflow/core/profiler/lib/profiler_session.cc:164] Profiler session tear down.\n"
     ]
    },
    {
     "name": "stdout",
     "output_type": "stream",
     "text": [
      "Epoch 1/5\n",
      "  18/1875 [..............................] - ETA: 11s - loss: 1.4488 - accuracy: 0.4878"
     ]
    },
    {
     "name": "stderr",
     "output_type": "stream",
     "text": [
      "2022-04-25 20:58:03.046228: I tensorflow/core/grappler/optimizers/custom_graph_optimizer_registry.cc:112] Plugin optimizer for device_type GPU is enabled.\n",
      "2022-04-25 20:58:03.115596: I tensorflow/core/profiler/lib/profiler_session.cc:131] Profiler session initializing.\n",
      "2022-04-25 20:58:03.115604: I tensorflow/core/profiler/lib/profiler_session.cc:146] Profiler session started.\n",
      "2022-04-25 20:58:03.129867: I tensorflow/core/profiler/lib/profiler_session.cc:66] Profiler session collecting data.\n",
      "2022-04-25 20:58:03.130179: I tensorflow/core/profiler/lib/profiler_session.cc:164] Profiler session tear down.\n",
      "2022-04-25 20:58:03.130735: I tensorflow/core/profiler/rpc/client/save_profile.cc:136] Creating directory: logs/20220425-205802/train/plugins/profile/2022_04_25_20_58_03\n",
      "\n",
      "2022-04-25 20:58:03.131071: I tensorflow/core/profiler/rpc/client/save_profile.cc:142] Dumped gzipped tool data for trace.json.gz to logs/20220425-205802/train/plugins/profile/2022_04_25_20_58_03/Shawns.local.trace.json.gz\n",
      "2022-04-25 20:58:03.131661: I tensorflow/core/profiler/rpc/client/save_profile.cc:136] Creating directory: logs/20220425-205802/train/plugins/profile/2022_04_25_20_58_03\n",
      "\n",
      "2022-04-25 20:58:03.131873: I tensorflow/core/profiler/rpc/client/save_profile.cc:142] Dumped gzipped tool data for memory_profile.json.gz to logs/20220425-205802/train/plugins/profile/2022_04_25_20_58_03/Shawns.local.memory_profile.json.gz\n",
      "2022-04-25 20:58:03.132476: I tensorflow/core/profiler/rpc/client/capture_profile.cc:251] Creating directory: logs/20220425-205802/train/plugins/profile/2022_04_25_20_58_03\n",
      "Dumped tool data for xplane.pb to logs/20220425-205802/train/plugins/profile/2022_04_25_20_58_03/Shawns.local.xplane.pb\n",
      "Dumped tool data for overview_page.pb to logs/20220425-205802/train/plugins/profile/2022_04_25_20_58_03/Shawns.local.overview_page.pb\n",
      "Dumped tool data for input_pipeline.pb to logs/20220425-205802/train/plugins/profile/2022_04_25_20_58_03/Shawns.local.input_pipeline.pb\n",
      "Dumped tool data for tensorflow_stats.pb to logs/20220425-205802/train/plugins/profile/2022_04_25_20_58_03/Shawns.local.tensorflow_stats.pb\n",
      "Dumped tool data for kernel_stats.pb to logs/20220425-205802/train/plugins/profile/2022_04_25_20_58_03/Shawns.local.kernel_stats.pb\n",
      "\n"
     ]
    },
    {
     "name": "stdout",
     "output_type": "stream",
     "text": [
      "1862/1875 [============================>.] - ETA: 0s - loss: 0.4976 - accuracy: 0.8218"
     ]
    },
    {
     "name": "stderr",
     "output_type": "stream",
     "text": [
      "2022-04-25 20:58:10.303172: I tensorflow/core/grappler/optimizers/custom_graph_optimizer_registry.cc:112] Plugin optimizer for device_type GPU is enabled.\n"
     ]
    },
    {
     "name": "stdout",
     "output_type": "stream",
     "text": [
      "1875/1875 [==============================] - 8s 4ms/step - loss: 0.4972 - accuracy: 0.8220 - val_loss: 0.5013 - val_accuracy: 0.8151\n",
      "Epoch 2/5\n",
      "1875/1875 [==============================] - 8s 4ms/step - loss: 0.3789 - accuracy: 0.8615 - val_loss: 0.4017 - val_accuracy: 0.8497\n",
      "Epoch 3/5\n",
      "1875/1875 [==============================] - 8s 4ms/step - loss: 0.3463 - accuracy: 0.8730 - val_loss: 0.3622 - val_accuracy: 0.8695\n",
      "Epoch 4/5\n",
      "1875/1875 [==============================] - 8s 4ms/step - loss: 0.3232 - accuracy: 0.8798 - val_loss: 0.3664 - val_accuracy: 0.8639\n",
      "Epoch 5/5\n",
      "1875/1875 [==============================] - 8s 4ms/step - loss: 0.3061 - accuracy: 0.8869 - val_loss: 0.3447 - val_accuracy: 0.8776\n"
     ]
    }
   ],
   "source": [
    "train_model()"
   ]
  },
  {
   "cell_type": "markdown",
   "id": "3c920078-a56d-49d4-a845-fc7f2ba70c5c",
   "metadata": {},
   "source": [
    "您可以使用 `tensorboard.notebook` API进行更多控制："
   ]
  },
  {
   "cell_type": "code",
   "execution_count": 10,
   "id": "81db456e-4197-44f3-be00-18e0b6e60b49",
   "metadata": {},
   "outputs": [
    {
     "name": "stdout",
     "output_type": "stream",
     "text": [
      "Known TensorBoard instances:\n",
      "  - port 6006: logdir logs (started 0:06:46 ago; pid 30953)\n"
     ]
    }
   ],
   "source": [
    "from tensorboard import notebook\n",
    "notebook.list() # View open TensorBoard instances"
   ]
  },
  {
   "cell_type": "code",
   "execution_count": 11,
   "id": "9dc36b84-3535-41de-adec-47e2e8b2ebd1",
   "metadata": {},
   "outputs": [
    {
     "name": "stdout",
     "output_type": "stream",
     "text": [
      "Selecting TensorBoard with logdir logs (started 0:06:54 ago; port 6006, pid 30953).\n"
     ]
    },
    {
     "data": {
      "text/html": [
       "\n",
       "      <iframe id=\"tensorboard-frame-ab9ea3b7e7b062d4\" width=\"100%\" height=\"1000\" frameborder=\"0\">\n",
       "      </iframe>\n",
       "      <script>\n",
       "        (function() {\n",
       "          const frame = document.getElementById(\"tensorboard-frame-ab9ea3b7e7b062d4\");\n",
       "          const url = new URL(\"/\", window.location);\n",
       "          const port = 6006;\n",
       "          if (port) {\n",
       "            url.port = port;\n",
       "          }\n",
       "          frame.src = url;\n",
       "        })();\n",
       "      </script>\n",
       "    "
      ],
      "text/plain": [
       "<IPython.core.display.HTML object>"
      ]
     },
     "metadata": {},
     "output_type": "display_data"
    }
   ],
   "source": [
    "# Control TensorBoard display. If no port is provided, \n",
    "# the most recently launched TensorBoard is used\n",
    "notebook.display(port=6006, height=1000) "
   ]
  },
  {
   "cell_type": "code",
   "execution_count": null,
   "id": "64454f1b-5872-4680-a2b7-824eff61480d",
   "metadata": {},
   "outputs": [],
   "source": []
  }
 ],
 "metadata": {
  "kernelspec": {
   "display_name": "Python 3 (ipykernel)",
   "language": "python",
   "name": "python3"
  },
  "language_info": {
   "codemirror_mode": {
    "name": "ipython",
    "version": 3
   },
   "file_extension": ".py",
   "mimetype": "text/x-python",
   "name": "python",
   "nbconvert_exporter": "python",
   "pygments_lexer": "ipython3",
   "version": "3.8.12"
  }
 },
 "nbformat": 4,
 "nbformat_minor": 5
}
