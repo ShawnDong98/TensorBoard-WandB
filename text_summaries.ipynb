{
 "cells": [
  {
   "cell_type": "markdown",
   "id": "5b4e6073-1765-421b-abf3-edd411c272f3",
   "metadata": {},
   "source": [
    "# Displaying text data in TensorBoard\n",
    "\n",
    "## Overview\n",
    "\n",
    "使用 TensorFlow  Text Summary API，您可以轻松记录任意文本并在 TensorBoard中查看。这对于取样和检查您的输入数据，或记录执行元数据或生成的文本非常有帮助。您还可以将诊断数据记录为文本，这有助于您的模型开发过程。\n",
    "\n",
    "在本教程中，您将尝试 Text Summary API 的一些基本用例。\n",
    "\n",
    "## Setup"
   ]
  },
  {
   "cell_type": "code",
   "execution_count": 1,
   "id": "c29ded31-d015-4274-8087-6f9d7ab64a46",
   "metadata": {},
   "outputs": [],
   "source": [
    "try:\n",
    "    # %tensorflow_version only exists in Colab.\n",
    "    %tensorflow_version 2.x\n",
    "except Exception:\n",
    "    pass\n",
    "\n",
    "# Load the TensorBoard notebook extension.\n",
    "%load_ext tensorboard"
   ]
  },
  {
   "cell_type": "code",
   "execution_count": 2,
   "id": "7d9bf946-847a-4157-bfb4-5e78b39a20d1",
   "metadata": {},
   "outputs": [
    {
     "name": "stdout",
     "output_type": "stream",
     "text": [
      "TensorFlow version:  2.6.0\n"
     ]
    }
   ],
   "source": [
    "import tensorflow as tf\n",
    "\n",
    "from datetime import datetime\n",
    "import json\n",
    "from packaging import version\n",
    "import tempfile\n",
    "\n",
    "print(\"TensorFlow version: \", tf.__version__)\n",
    "assert version.parse(tf.__version__).release[0] >= 2, \\\n",
    "    \"This notebook requires TensorFlow 2.0 or above.\""
   ]
  },
  {
   "cell_type": "markdown",
   "id": "b9faf124-f934-4b61-8cf1-50f86e3e4cfd",
   "metadata": {},
   "source": [
    "## Logging a single piece of text\n",
    "\n",
    "要了解 Text Summary API的工作原理，您只需记录一些文本，并查看它在 TensorBoard 中的显示方式。"
   ]
  },
  {
   "cell_type": "code",
   "execution_count": 3,
   "id": "d97ae6f5-ac93-46ae-a65e-bf458e457a77",
   "metadata": {},
   "outputs": [],
   "source": [
    "my_text = \"Hello world! 😃\""
   ]
  },
  {
   "cell_type": "code",
   "execution_count": 4,
   "id": "9a85da3d-8d44-4624-b578-513d79eca1cd",
   "metadata": {},
   "outputs": [
    {
     "name": "stdout",
     "output_type": "stream",
     "text": [
      "Metal device set to: Apple M1\n"
     ]
    },
    {
     "name": "stderr",
     "output_type": "stream",
     "text": [
      "2022-05-09 09:53:43.275237: I tensorflow/core/common_runtime/pluggable_device/pluggable_device_factory.cc:305] Could not identify NUMA node of platform GPU ID 0, defaulting to 0. Your kernel may not have been built with NUMA support.\n",
      "2022-05-09 09:53:43.275376: I tensorflow/core/common_runtime/pluggable_device/pluggable_device_factory.cc:271] Created TensorFlow device (/job:localhost/replica:0/task:0/device:GPU:0 with 0 MB memory) -> physical PluggableDevice (device: 0, name: METAL, pci bus id: <undefined>)\n"
     ]
    }
   ],
   "source": [
    "# Clear out any prior log data.\n",
    "!rm -rf logs\n",
    "\n",
    "logdir = \"logs/text_basics/\" + datetime.now().strftime(\"%Y%m%d-%H%M%S\")\n",
    "\n",
    "file_writer = tf.summary.create_file_writer(logdir)\n",
    "\n",
    "with file_writer.as_default():\n",
    "    tf.summary.text(\"first_text\", my_text, step=0)"
   ]
  },
  {
   "cell_type": "markdown",
   "id": "9f55edf2-fe0e-4706-a151-b3d56ea128a1",
   "metadata": {},
   "source": [
    "现在，使用TensorBoard检查文本。等待几秒钟。"
   ]
  },
  {
   "cell_type": "code",
   "execution_count": 5,
   "id": "bf4f00a4-00b7-4867-ab3e-34d3d8970a5f",
   "metadata": {},
   "outputs": [
    {
     "data": {
      "text/html": [
       "\n",
       "      <iframe id=\"tensorboard-frame-798402b41b8611e6\" width=\"100%\" height=\"800\" frameborder=\"0\">\n",
       "      </iframe>\n",
       "      <script>\n",
       "        (function() {\n",
       "          const frame = document.getElementById(\"tensorboard-frame-798402b41b8611e6\");\n",
       "          const url = new URL(\"/\", window.location);\n",
       "          const port = 6006;\n",
       "          if (port) {\n",
       "            url.port = port;\n",
       "          }\n",
       "          frame.src = url;\n",
       "        })();\n",
       "      </script>\n",
       "    "
      ],
      "text/plain": [
       "<IPython.core.display.HTML object>"
      ]
     },
     "metadata": {},
     "output_type": "display_data"
    }
   ],
   "source": [
    "%tensorboard --logdir logs"
   ]
  },
  {
   "cell_type": "markdown",
   "id": "524dc9eb-6b30-411e-a53e-e0125fc1077b",
   "metadata": {},
   "source": [
    "## Organizing multiple text streams\n",
    "\n",
    "如果您有多个文本流，您可以将它们保存在单独的命名空间中，以帮助组织它们，就像标量或其他数据一样。\n",
    "\n",
    "请注意，如果您在许多步骤中记录文本，TensorBoard将对要显示的步骤进行子采样，以使演示易于管理。您可以使用 `--samples_per_plugin` 标志控制采样率。"
   ]
  },
  {
   "cell_type": "code",
   "execution_count": 6,
   "id": "b456eec8-f85d-4e8f-9526-a1db6f39db34",
   "metadata": {},
   "outputs": [],
   "source": [
    "logdir = \"logs/multiple_texts/\" + datetime.now().strftime(\"%Y%m%d-%H%M%S\")\n",
    "file_writer = tf.summary.create_file_writer(logdir)\n",
    "\n",
    "with file_writer.as_default():\n",
    "    with tf.name_scope(\"name_scope_1\"):\n",
    "        for step in range(20):\n",
    "            tf.summary.text(\"a_stream_of_text\", f\"Hello from step {step}\", step=step)\n",
    "            tf.summary.text(\"another_stream_of_text\", f\"This can be kept separate {step}\", step=step)\n",
    "    with tf.name_scope(\"name_scope_2\"):\n",
    "        tf.summary.text(\"just_from_step_0\", \"This is an important announcement from step 0\", step=0)"
   ]
  },
  {
   "cell_type": "code",
   "execution_count": 7,
   "id": "c410b6fe-99be-4618-abb9-407fb525e469",
   "metadata": {},
   "outputs": [
    {
     "data": {
      "text/html": [
       "\n",
       "      <iframe id=\"tensorboard-frame-4fdd1570d382d9bf\" width=\"100%\" height=\"800\" frameborder=\"0\">\n",
       "      </iframe>\n",
       "      <script>\n",
       "        (function() {\n",
       "          const frame = document.getElementById(\"tensorboard-frame-4fdd1570d382d9bf\");\n",
       "          const url = new URL(\"/\", window.location);\n",
       "          const port = 6007;\n",
       "          if (port) {\n",
       "            url.port = port;\n",
       "          }\n",
       "          frame.src = url;\n",
       "        })();\n",
       "      </script>\n",
       "    "
      ],
      "text/plain": [
       "<IPython.core.display.HTML object>"
      ]
     },
     "metadata": {},
     "output_type": "display_data"
    }
   ],
   "source": [
    "%tensorboard --logdir logs/multiple_texts --samples_per_plugin 'text=5'"
   ]
  },
  {
   "cell_type": "markdown",
   "id": "319baa0a-2123-459f-839c-1f32c3823449",
   "metadata": {},
   "source": [
    "## Markdown interpretation\n",
    "\n",
    "TensorBoard 将 Text Summary 解释为Markdown，因为 rich formatting 可以使您记录的数据更容易阅读和理解，如下所示。"
   ]
  },
  {
   "cell_type": "code",
   "execution_count": 10,
   "id": "21f6da94-6b76-4c63-b112-f8159bed76fa",
   "metadata": {},
   "outputs": [],
   "source": [
    "logdir = \"logs/markdown/\" + datetime.now().strftime(\"%Y%m%d-%H%M%S\")\n",
    "file_writer = tf.summary.create_file_writer(logdir)\n",
    "\n",
    "some_obj_worth_nothing = {\n",
    "    \"tfds_training_data\": {\n",
    "        \"name\": \"mnist\",\n",
    "        \"split\": \"train\",\n",
    "        \"shuffle_files\": \"True\",\n",
    "    },\n",
    "    \"keras_optimizer\": {\n",
    "        \"name\": \"Adagrad\",\n",
    "        \"learning_rate\": \"0.001\",\n",
    "        \"epsilon\": 1e-07,\n",
    "    },\n",
    "    \"hardware\": \"Cloud TPU\",\n",
    "}\n",
    "\n",
    "def pretty_json(hp):\n",
    "    json_hp = json.dumps(hp, indent=2)\n",
    "    return \"\".join(\"\\t\" + line for line in json_hp.splitlines(True))\n",
    "\n",
    "markdown_text = \"\"\"\n",
    "### Markdown Text\n",
    "\n",
    "TensorBoard supports basic markdown syntax, including:\n",
    "\n",
    "    preformatted code\n",
    "\n",
    "**bold text**\n",
    "\n",
    "| and | tables |\n",
    "| ---- | ---------- |\n",
    "| among | others |\n",
    "\"\"\"\n",
    "\n",
    "with file_writer.as_default():\n",
    "    tf.summary.text(\"run_params\", pretty_json(some_obj_worth_nothing), step=0)\n",
    "    tf.summary.text(\"markdown_jubiliee\", markdown_text, step=0)"
   ]
  },
  {
   "cell_type": "code",
   "execution_count": 11,
   "id": "581ed1d5-2641-4ab7-8e4e-d71266ba7ac6",
   "metadata": {},
   "outputs": [
    {
     "data": {
      "text/html": [
       "\n",
       "      <iframe id=\"tensorboard-frame-8156478711774b85\" width=\"100%\" height=\"800\" frameborder=\"0\">\n",
       "      </iframe>\n",
       "      <script>\n",
       "        (function() {\n",
       "          const frame = document.getElementById(\"tensorboard-frame-8156478711774b85\");\n",
       "          const url = new URL(\"/\", window.location);\n",
       "          const port = 6008;\n",
       "          if (port) {\n",
       "            url.port = port;\n",
       "          }\n",
       "          frame.src = url;\n",
       "        })();\n",
       "      </script>\n",
       "    "
      ],
      "text/plain": [
       "<IPython.core.display.HTML object>"
      ]
     },
     "metadata": {},
     "output_type": "display_data"
    }
   ],
   "source": [
    "%tensorboard --logdir logs/markdown"
   ]
  },
  {
   "cell_type": "code",
   "execution_count": null,
   "id": "aeb17dcd-de60-47fa-bdde-d5ce4151f9e9",
   "metadata": {},
   "outputs": [],
   "source": []
  }
 ],
 "metadata": {
  "kernelspec": {
   "display_name": "Python 3 (ipykernel)",
   "language": "python",
   "name": "python3"
  },
  "language_info": {
   "codemirror_mode": {
    "name": "ipython",
    "version": 3
   },
   "file_extension": ".py",
   "mimetype": "text/x-python",
   "name": "python",
   "nbconvert_exporter": "python",
   "pygments_lexer": "ipython3",
   "version": "3.8.12"
  }
 },
 "nbformat": 4,
 "nbformat_minor": 5
}
